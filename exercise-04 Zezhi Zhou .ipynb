{
 "cells": [
  {
   "cell_type": "markdown",
   "metadata": {},
   "source": [
    "# Exercise 04 - Due Friday, October 21 at 12pm\n",
    "\n",
    "*Objectives*: Gain experience loading a CSV dataset into a database model you define yourself and using SQL to explore its contents. Explore the data by writing and executing a number of SQL queries using common syntax and functions and describing your findings.\n",
    "\n",
    "*Grading criteria*: The tasks should all be completed, and questions should all be answered with SQL queries in the space provided, unless a text answer is requested. Results should be correct, according to the embedded tests. The notebook itself should be completely reproducible; from start to finish, another person should be able to use the same code to obtain the same results as yours.  Note that you will receive no more than partial credit if you do not add text/markdown cells explaining your thinking at each major step in each problem.\n",
    "\n",
    "*Deadline*: Friday, October 21, 12pm. Submit your notebook to Blackboard and push it to your GitHub repository.\n",
    "\n",
    "## Setup - obtain data and create database\n",
    "\n",
    "The US City Open Data Census has data on [restaurant inspections from all over the country](http://us-city.census.okfn.org/dataset/food-safety).  Let's take a look at data from Albuquerque.  *Note*: metadata and other details for this dataset are available at http://data.cabq.gov/business/foodinspections/.\n",
    "\n",
    "Fyi, to save you a step, I've converted this file into a clean CSV file by using the `dos2unix` command to change its line endings and to switch it to use commas instead of tabs using `csvformat -t inputfile.csv > outputfile.csv`.\n",
    "\n",
    "First we download the dataset:"
   ]
  },
  {
   "cell_type": "code",
   "execution_count": 1,
   "metadata": {
    "collapsed": false
   },
   "outputs": [
    {
     "name": "stdout",
     "output_type": "stream",
     "text": [
      "--2016-10-24 12:46:51--  https://raw.githubusercontent.com/gwsb-istm-6212-fall-2016/syllabus-and-schedule/master/exercises/abq-food-inspections-fy2010.csv\n",
      "Resolving raw.githubusercontent.com (raw.githubusercontent.com)... 151.101.32.133\n",
      "Connecting to raw.githubusercontent.com (raw.githubusercontent.com)|151.101.32.133|:443... connected.\n",
      "HTTP request sent, awaiting response... 200 OK\n",
      "Length: 5025226 (4.8M) [text/plain]\n",
      "Saving to: ‘abq-food-inspections-fy2010.csv’\n",
      "\n",
      "abq-food-inspection 100%[=====================>]   4.79M  --.-KB/s   in 0.06s  \n",
      "\n",
      "2016-10-24 12:46:51 (79.6 MB/s) - ‘abq-food-inspections-fy2010.csv’ saved [5025226/5025226]\n",
      "\n"
     ]
    }
   ],
   "source": [
    "!wget https://raw.githubusercontent.com/gwsb-istm-6212-fall-2016/syllabus-and-schedule/master/exercises/abq-food-inspections-fy2010.csv"
   ]
  },
  {
   "cell_type": "markdown",
   "metadata": {},
   "source": [
    "## Problem 1 - examine the data (35 points)\n",
    "\n",
    "Use `csvstat` and other tools as you see fit and observe its contents.  Review the metadata definitions linked to above.  Describe what you see:  What do all the columns mean?  Are there null values?  Which columns interest you the most?  Which columns present some complications or questions you would like to ask?"
   ]
  },
  {
   "cell_type": "markdown",
   "metadata": {},
   "source": [
    "Insert a combination of code and text/markdown cells here to review the data and describe what you find."
   ]
  },
  {
   "cell_type": "code",
   "execution_count": 8,
   "metadata": {
    "collapsed": false
   },
   "outputs": [
    {
     "name": "stdout",
     "output_type": "stream",
     "text": [
      "The sql extension is already loaded. To reload it, use:\n",
      "  %reload_ext sql\n"
     ]
    }
   ],
   "source": [
    "%load_ext sql"
   ]
  },
  {
   "cell_type": "code",
   "execution_count": 9,
   "metadata": {
    "collapsed": false
   },
   "outputs": [
    {
     "name": "stdout",
     "output_type": "stream",
     "text": [
      "[sudo] password for jovyan: Restarting PostgreSQL 9.5 database server: main.\n",
      "createdb: database creation failed: ERROR:  database \"exercise4\" already exists\n"
     ]
    }
   ],
   "source": [
    "!echo 'redspot' | sudo -S service postgresql restart\n",
    "!createdb -U dbuser exercise4"
   ]
  },
  {
   "cell_type": "code",
   "execution_count": 10,
   "metadata": {
    "collapsed": false
   },
   "outputs": [
    {
     "data": {
      "text/plain": [
       "'Connected: dbuser@exercise4'"
      ]
     },
     "execution_count": 10,
     "metadata": {},
     "output_type": "execute_result"
    }
   ],
   "source": [
    "%sql postgresql://dbuser@localhost:5432/exercise4"
   ]
  },
  {
   "cell_type": "code",
   "execution_count": 5,
   "metadata": {
    "collapsed": false
   },
   "outputs": [
    {
     "name": "stdout",
     "output_type": "stream",
     "text": [
      "  1: FACILITY_NAME\n",
      "  2: FACILITY_KEY\n",
      "  3: SITE_ADDRESS\n",
      "  4: CITY\n",
      "  5: STATE\n",
      "  6: ZIP\n",
      "  7: OWNER_KEY\n",
      "  8: OWNER_NAME\n",
      "  9: NATURE_OF_BUSINESS\n",
      " 10: STREET_NUMBER\n",
      " 11: STREET_NAME\n",
      " 12: STREET_TYPE\n",
      " 13: POST_DIRECTIONAL\n",
      " 14: PHONE\n",
      " 15: PROGRAM_CATEGORY\n",
      " 16: PROGRAM_CATEGORY_DESCRIPTION\n",
      " 17: INSPECTION_DATE\n",
      " 18: INSPECTION_TYPE\n",
      " 19: INSPECTION_DESC\n",
      " 20: SERIAL_NUM\n",
      " 21: ACTION_CODE\n",
      " 22: ACTION_DESC\n",
      " 23: RESULT_CODE\n",
      " 24: RESULT_DESC\n",
      " 25: VIOLATION_CODE\n",
      " 26: VIOLATION_DESC\n",
      " 27: INSPECTION_MEMO\n",
      "17557 abq-food-inspections-fy2010.csv\n"
     ]
    }
   ],
   "source": [
    "!csvcut -n abq-food-inspections-fy2010.csv\n",
    "!wc -l abq-food-inspections-fy2010.csv"
   ]
  },
  {
   "cell_type": "markdown",
   "metadata": {},
   "source": [
    "##### Description of the Columns:\n",
    "1: FACILITY_NAME: the name of facility\n",
    "\n",
    "2: FACILITY_KEY: the unique id of facility\n",
    "\n",
    "3: SITE_ADDRESS: the address of facility\n",
    "\n",
    "4: CITY: city where the facility stands\n",
    "\n",
    "5: STATE: state where the facility stands\n",
    "\n",
    "6: ZIP: the zip of the area where the facility stands\n",
    "\n",
    "7: OWNER_KEY: the unique id of the facility's owner\n",
    "\n",
    "8: OWNER_NAME: the name of the owner\n",
    "\n",
    "9: NATURE_OF_BUSINESS: the industry that the facility belongs to\n",
    "\n",
    "10: STREET_NUMBER: the unique id of the street\n",
    "\n",
    "11: STREET_NAME: name of the street\n",
    "\n",
    "12: STREET_TYPE: the type of the street\n",
    "\n",
    "13: POST_DIRECTIONAL: the post direction of the facility\n",
    "\n",
    "14: PHONE: the phone number of the facility\n",
    "\n",
    "15: PROGRAM_CATEGORY: id that indicates the type of facility\n",
    "\n",
    "16: PROGRAM_CATEGORY_DESCRIPTION: Descript of the id that indicates the type of facility\n",
    "\n",
    "17: INSPECTION_DATE: Date the inspection\n",
    "\n",
    "18: INSPECTION_TYPE: type of the inspection\n",
    "\n",
    "19: INSPECTION_DESC: description of the inspection\n",
    "\n",
    "20: SERIAL_NUM:  Unique ID for the inspection daily activity\n",
    "\n",
    "21: ACTION_CODE: Code of the action taken\n",
    "\n",
    "22: ACTION_DESC: Description of the action taken\n",
    "\n",
    "23: RESULT_CODE: Code of the result of the inspection\n",
    "\n",
    "24: RESULT_DESC: Description of the result of the inspection\n",
    "\n",
    "25: VIOLATION_CODE: The code for the violation\n",
    "\n",
    "26: VIOLATION_DESC: the discription of the violation\n",
    "\n",
    "27: INSPECTION_MEMO: Notes from the inspection made by the inspector"
   ]
  },
  {
   "cell_type": "code",
   "execution_count": 6,
   "metadata": {
    "collapsed": true
   },
   "outputs": [
    {
     "name": "stdout",
     "output_type": "stream",
     "text": [
      "  1. FACILITY_NAME\n",
      "\t<class 'str'>\n",
      "\tNulls: False\n",
      "\tUnique values: 2615\n",
      "\t5 most frequent values:\n",
      "\t\tSMITHS FOOD AND DRUG CENTERS INC:\t154\n",
      "\t\tISOTOPES PARK - OVATIONS:\t93\n",
      "\t\tPER EHSII CECELIA GARCIA OOB LA REYNA DEL SUR:\t85\n",
      "\t\tISLETA AMPHITHEATER:\t68\n",
      "\t\tECHO INC:\t68\n",
      "\tMax length: 77\n",
      "  2. FACILITY_KEY\n",
      "\t<class 'int'>\n",
      "\tNulls: False\n",
      "\tMin: 13\n",
      "\tMax: 101482\n",
      "\tSum: 820405773\n",
      "\tMean: 46730.79135338346\n",
      "\tMedian: 50866.0\n",
      "\tStandard Deviation: 32659.794578837962\n",
      "\tUnique values: 2835\n",
      "\t5 most frequent values:\n",
      "\t\t46323:\t93\n",
      "\t\t65863:\t85\n",
      "\t\t32817:\t68\n",
      "\t\t80949:\t68\n",
      "\t\t91825:\t66\n",
      "  3. SITE_ADDRESS\n",
      "\t<class 'str'>\n",
      "\tNulls: True\n",
      "\tUnique values: 2456\n",
      "\t5 most frequent values:\n",
      "\t\t1601 AVENIDA CESAR CHAVEZ SE:\t94\n",
      "\t\t644 OLD COORS BLVD SW:\t85\n",
      "\t\t8601 CENTRAL AV NE:\t77\n",
      "\t\t2200 SUNPORT BLVD SE:\t75\n",
      "\t\t5210 CENTRAL AV SE:\t73\n",
      "\tMax length: 35\n",
      "  4. CITY\n",
      "\t<class 'str'>\n",
      "\tNulls: False\n",
      "\tValues: ALBUQUERQUE\n",
      "  5. STATE\n",
      "\t<class 'str'>\n",
      "\tNulls: False\n",
      "\tValues: 87, NM\n",
      "  6. ZIP\n",
      "\t<class 'str'>\n",
      "\tNulls: False\n",
      "\tUnique values: 48\n",
      "\t5 most frequent values:\n",
      "\t\t87110:\t1996\n",
      "\t\t87108:\t1976\n",
      "\t\t87102:\t1601\n",
      "\t\t87106:\t1568\n",
      "\t\t87109:\t1552\n",
      "\tMax length: 10\n",
      "  7. OWNER_KEY\n",
      "\t<class 'int'>\n",
      "\tNulls: False\n",
      "\tMin: 11\n",
      "\tMax: 87302\n",
      "\tSum: 644760848\n",
      "\tMean: 36725.953975848715\n",
      "\tMedian: 33747.0\n",
      "\tStandard Deviation: 29428.207216739836\n",
      "\tUnique values: 1892\n",
      "\t5 most frequent values:\n",
      "\t\t1838:\t792\n",
      "\t\t3537:\t321\n",
      "\t\t1272:\t228\n",
      "\t\t36280:\t156\n",
      "\t\t80274:\t155\n",
      "  8. OWNER_NAME\n",
      "\t<class 'str'>\n",
      "\tNulls: False\n",
      "\tUnique values: 1852\n",
      "\t5 most frequent values:\n",
      "\t\tAPS:\t792\n",
      "\t\tSMITHS FOOD AND DRUG CENTERS INC:\t321\n",
      "\t\tCIRCLE K STORES INC:\t277\n",
      "\t\tALBERTSONS:\t228\n",
      "\t\tWAL MART STORES EAST  LP:\t156\n",
      "\tMax length: 82\n",
      "  9. NATURE_OF_BUSINESS\n",
      "\t<class 'str'>\n",
      "\tNulls: True\n",
      "\tUnique values: 594\n",
      "\t5 most frequent values:\n",
      "\t\tRESTAURANT:\t4994\n",
      "\t\tFOOD SERVICE:\t691\n",
      "\t\tGROCERY:\t618\n",
      "\t\tBAR/RESTAURANT:\t508\n",
      "\t\tAPS SCHOOL FOOD SERVICE:\t470\n",
      "\tMax length: 25\n",
      " 10. STREET_NUMBER\n",
      "\t<class 'str'>\n",
      "\tNulls: True\n",
      "\tUnique values: 1349\n",
      "\t5 most frequent values:\n",
      "\t\t6600:\t216\n",
      "\t\t10000:\t152\n",
      "\t\t300:\t143\n",
      "\t\t2200:\t127\n",
      "\t\t8100:\t125\n",
      "\tMax length: 7\n",
      " 11. STREET_NAME\n",
      "\t<class 'str'>\n",
      "\tNulls: True\n",
      "\tUnique values: 404\n",
      "\t5 most frequent values:\n",
      "\t\tCENTRAL:\t1898\n",
      "\t\tMENAUL:\t928\n",
      "\t\tCOORS:\t918\n",
      "\t\tMONTGOMERY:\t727\n",
      "\t\tSAN MATEO:\t707\n",
      "\tMax length: 24\n",
      " 12. STREET_TYPE\n",
      "\t<class 'str'>\n",
      "\tNulls: True\n",
      "\tUnique values: 13\n",
      "\t5 most frequent values:\n",
      "\t\tBLVD:\t7636\n",
      "\t\tAV:\t3005\n",
      "\t\tST:\t2065\n",
      "\t\tRD:\t1900\n",
      "\t\tDR:\t995\n",
      "\tMax length: 4\n",
      " 13. POST_DIRECTIONAL\n",
      "\t<class 'str'>\n",
      "\tNulls: True\n",
      "\tValues: NW, NE, SE, N, SW\n",
      " 14. PHONE\n",
      "\t<class 'int'>\n",
      "\tNulls: True\n",
      "\tMin: 2471094\n",
      "\tMax: 505345566137310\n",
      "\tSum: 2608539289633190\n",
      "\tMean: 161719732773.29138\n",
      "\tMedian: 5053454060.0\n",
      "\tStandard Deviation: 8895791545525.992\n",
      "\tUnique values: 2279\n",
      "\t5 most frequent values:\n",
      "\t\t9153321301:\t101\n",
      "\t\t3037929467:\t100\n",
      "\t\t5052224033:\t94\n",
      "\t\t3109680646:\t85\n",
      "\t\t5052426777:\t68\n",
      " 15. PROGRAM_CATEGORY\n",
      "\t<class 'str'>\n",
      "\tNulls: False\n",
      "\tUnique values: 25\n",
      "\t5 most frequent values:\n",
      "\t\t0406:\t7969\n",
      "\t\t0601:\t1159\n",
      "\t\t0607:\t894\n",
      "\t\t0606:\t865\n",
      "\t\t0408:\t832\n",
      "\tMax length: 4\n",
      " 16. PROGRAM_CATEGORY_DESCRIPTION\n",
      "\t<class 'str'>\n",
      "\tNulls: True\n",
      "\tUnique values: 24\n",
      "\t5 most frequent values:\n",
      "\t\tFood Service Establishment:\t7969\n",
      "\t\tRetail -Grocery:\t1159\n",
      "\t\tRetail - Self Service & Prepackage Foods:\t894\n",
      "\t\tRetail - Prepackage Only:\t865\n",
      "\t\tSchool:\t832\n",
      "\tMax length: 40\n",
      " 17. INSPECTION_DATE\n",
      "\t<class 'datetime.date'>\n",
      "\tNulls: False\n",
      "\tMin: 2009-07-01\n",
      "\tMax: 2010-06-30\n",
      "\tUnique values: 258\n",
      "\t5 most frequent values:\n",
      "\t\t2009-12-16:\t184\n",
      "\t\t2009-09-10:\t159\n",
      "\t\t2009-09-25:\t148\n",
      "\t\t2009-11-04:\t133\n",
      "\t\t2009-10-01:\t131\n",
      " 18. INSPECTION_TYPE\n",
      "\t<class 'NoneType'>\n",
      "\tNulls: True\n",
      "\tValues: \n",
      " 19. INSPECTION_DESC\n",
      "\t<class 'str'>\n",
      "\tNulls: False\n",
      "\tUnique values: 15\n",
      "\t5 most frequent values:\n",
      "\t\tROUTINE FOOD INSPECTION:\t12439\n",
      "\t\tEMERGENCY RESPONSE:\t1987\n",
      "\t\tNew Business Inspection:\t1005\n",
      "\t\tPRE-OPENING FOOD INSPECTION:\t743\n",
      "\t\tADDITIONAL SERVICE PROVIDED:\t439\n",
      "\tMax length: 32\n",
      " 20. SERIAL_NUM\n",
      "\t<class 'str'>\n",
      "\tNulls: False\n",
      "\tUnique values: 9046\n",
      "\t5 most frequent values:\n",
      "\t\tDA0045676:\t61\n",
      "\t\tDA0059230:\t61\n",
      "\t\tDA0047720:\t61\n",
      "\t\tDA0047290:\t61\n",
      "\t\tDA0045731:\t61\n",
      "\tMax length: 9\n",
      " 21. ACTION_CODE\n",
      "\t<class 'str'>\n",
      "\tNulls: False\n",
      "\tUnique values: 8\n",
      "\t5 most frequent values:\n",
      "\t\t11:\t14080\n",
      "\t\t00:\t2800\n",
      "\t\t09:\t382\n",
      "\t\t06:\t264\n",
      "\t\t10:\t21\n",
      "\tMax length: 2\n",
      " 22. ACTION_DESC\n",
      "\t<class 'str'>\n",
      "\tNulls: False\n",
      "\tUnique values: 8\n",
      "\t5 most frequent values:\n",
      "\t\tAPPROVED:\t14080\n",
      "\t\tNON-GRADED:\t2800\n",
      "\t\tANNUAL STICKER ISSUED:\t382\n",
      "\t\tUNSATISFACTORY:\t264\n",
      "\t\tANNUAL STICKER NOT ISSUED:\t21\n",
      "\tMax length: 34\n",
      " 23. RESULT_CODE\n",
      "\t<class 'str'>\n",
      "\tNulls: False\n",
      "\tUnique values: 19\n",
      "\t5 most frequent values:\n",
      "\t\t03:\t14389\n",
      "\t\t00:\t2416\n",
      "\t\t05:\t214\n",
      "\t\t22:\t142\n",
      "\t\t18:\t104\n",
      "\tMax length: 2\n",
      " 24. RESULT_DESC\n",
      "\t<class 'str'>\n",
      "\tNulls: False\n",
      "\tUnique values: 19\n",
      "\t5 most frequent values:\n",
      "\t\tIN COMPLIANCE:\t14389\n",
      "\t\tNOT APPLICABLE:\t2416\n",
      "\t\tDOWNGRADE:\t214\n",
      "\t\tOUT OF BUSINESS:\t142\n",
      "\t\tTRAINING RECEIVED:\t104\n",
      "\tMax length: 37\n",
      " 25. VIOLATION_CODE\n",
      "\t<class 'str'>\n",
      "\tNulls: True\n",
      "\tUnique values: 128\n",
      "\t5 most frequent values:\n",
      "\t\t55:\t6348\n",
      "\t\t00:\t3429\n",
      "\t\t68:\t1658\n",
      "\t\t42:\t487\n",
      "\t\t35:\t441\n",
      "\tMax length: 10\n",
      " 26. VIOLATION_DESC\n",
      "\t<class 'str'>\n",
      "\tNulls: True\n",
      "\tUnique values: 70\n",
      "\t5 most frequent values:\n",
      "\t\tAdditional Comments:\t6353\n",
      "\t\tNo Violations Found:\t3434\n",
      "\t\tDelivered Informational Brochure:\t1657\n",
      "\t\tPlumbing: Improperly installed/maintained/supplied:\t492\n",
      "\t\tNon-Food contact surfaces:\t446\n",
      "\tMax length: 50\n",
      " 27. INSPECTION_MEMO\n",
      "\t<class 'NoneType'>\n",
      "\tNulls: True\n",
      "\tValues: \n",
      "\n",
      "Row count: 17556\n"
     ]
    }
   ],
   "source": [
    "!csvstat abq-food-inspections-fy2010.csv"
   ]
  },
  {
   "cell_type": "markdown",
   "metadata": {},
   "source": [
    "According to csvstat, there are missing values of some columns, which include: SITE_ADDRESS, NATURE_OF_BUSINESS,  STREET_NUMBER, STREET_NAME, STREET_TYPE, POST_DIRECTIONAL, PHONE, PROGRAM_CATEGORY_DESCRIPTION, INSPECTION_TYPE, VIOLATION_CODE, VIOLATION_DESC, INSPECTION_MEMO"
   ]
  },
  {
   "cell_type": "markdown",
   "metadata": {},
   "source": [
    "Most interested columns: RESULT_DESC,INSPECTION_DESC"
   ]
  },
  {
   "cell_type": "markdown",
   "metadata": {},
   "source": [
    " Which columns present some complications or questions you would like to ask？      How many inspections for each quarter"
   ]
  },
  {
   "cell_type": "markdown",
   "metadata": {},
   "source": [
    "## Problem 2 - define a database model and load the data (35 points)\n",
    "\n",
    "Based on what you found above, create and connect to a new database, define a database table in it, and load this dataset into it.  You may use either of the methods for this step you have seen in earlier class notebooks.  You may choose to eliminate variables/columns if they are not relevant or interesting to you - explain your reasoning if you do.  Either way, you should load a majority of the columns present in the source dataset into the database and all of its rows.\n",
    "\n",
    "Once your data has loaded successfully, run a `COUNT(*)` query to verify that all the data has loaded correctly.\n",
    "\n",
    "Insert a combination of code and text/markdown cells here to connect to your database, define your table, load its data, and verify the loaded records."
   ]
  },
  {
   "cell_type": "code",
   "execution_count": 12,
   "metadata": {
    "collapsed": false
   },
   "outputs": [
    {
     "name": "stdout",
     "output_type": "stream",
     "text": [
      "Done.\n",
      "Done.\n"
     ]
    },
    {
     "data": {
      "text/plain": [
       "[]"
      ]
     },
     "execution_count": 12,
     "metadata": {},
     "output_type": "execute_result"
    }
   ],
   "source": [
    "%%sql\n",
    "DROP TABLE IF EXISTS E4;\n",
    "CREATE TABLE E4 (\n",
    "    facility_name VARCHAR(77),\n",
    "    facility_key INTEGER,\n",
    "    site_address VARCHAR(35),\n",
    "    city VARCHAR(12),\n",
    "    state VARCHAR(2),\n",
    "    zip VARCHAR(10),\n",
    "    owner_key INTEGER,\n",
    "    owner_name VARCHAR(82),\n",
    "    nature_of_business VARCHAR(25),\n",
    "    street_number VARCHAR(7),\n",
    "    street_name VARCHAR(24),\n",
    "    street_type VARCHAR(4),\n",
    "    post_directional VARCHAR(2),\n",
    "    phone VARCHAR(20),\n",
    "    program_category VARCHAR(4),\n",
    "    program_category_description VARCHAR(40),\n",
    "    inspection_date TIMESTAMP,\n",
    "    inspection_type VARCHAR(10),\n",
    "    inspection_desc VARCHAR(32),\n",
    "    serial_num VARCHAR(9),\n",
    "    action_code VARCHAR(2),\n",
    "    action_decs VARCHAR(34),\n",
    "    result_code VARCHAR(2),\n",
    "    result_desc VARCHAR(37),\n",
    "    violation_code VARCHAR(10),\n",
    "    violation_desc VARCHAR(50),\n",
    "    inspection_memo VARCHAR(64)\n",
    "    \n",
    ")"
   ]
  },
  {
   "cell_type": "code",
   "execution_count": 13,
   "metadata": {
    "collapsed": false
   },
   "outputs": [
    {
     "name": "stdout",
     "output_type": "stream",
     "text": [
      "/home/jovyan/work\r\n"
     ]
    }
   ],
   "source": [
    "!pwd"
   ]
  },
  {
   "cell_type": "code",
   "execution_count": 14,
   "metadata": {
    "collapsed": false
   },
   "outputs": [
    {
     "name": "stdout",
     "output_type": "stream",
     "text": [
      "17556 rows affected.\n"
     ]
    },
    {
     "data": {
      "text/plain": [
       "[]"
      ]
     },
     "execution_count": 14,
     "metadata": {},
     "output_type": "execute_result"
    }
   ],
   "source": [
    "%%sql\n",
    "COPY E4 FROM '/home/jovyan/work/abq-food-inspections-fy2010.csv'\n",
    "CSV\n",
    "HEADER\n",
    "QUOTE '\"'\n",
    "DELIMITER ',';"
   ]
  },
  {
   "cell_type": "code",
   "execution_count": 15,
   "metadata": {
    "collapsed": false
   },
   "outputs": [
    {
     "name": "stdout",
     "output_type": "stream",
     "text": [
      "1 rows affected.\n"
     ]
    },
    {
     "data": {
      "text/html": [
       "<table>\n",
       "    <tr>\n",
       "        <th>count</th>\n",
       "    </tr>\n",
       "    <tr>\n",
       "        <td>17556</td>\n",
       "    </tr>\n",
       "</table>"
      ],
      "text/plain": [
       "[(17556,)]"
      ]
     },
     "execution_count": 15,
     "metadata": {},
     "output_type": "execute_result"
    }
   ],
   "source": [
    "%%sql\n",
    "SELECT COUNT(*) FROM E4;"
   ]
  },
  {
   "cell_type": "code",
   "execution_count": 11,
   "metadata": {
    "collapsed": false
   },
   "outputs": [
    {
     "name": "stdout",
     "output_type": "stream",
     "text": [
      "10 rows affected.\n"
     ]
    },
    {
     "data": {
      "text/html": [
       "<table>\n",
       "    <tr>\n",
       "        <th>facility_name</th>\n",
       "        <th>facility_key</th>\n",
       "        <th>site_address</th>\n",
       "        <th>city</th>\n",
       "        <th>state</th>\n",
       "        <th>zip</th>\n",
       "        <th>owner_key</th>\n",
       "        <th>owner_name</th>\n",
       "        <th>nature_of_business</th>\n",
       "        <th>street_number</th>\n",
       "        <th>street_name</th>\n",
       "        <th>street_type</th>\n",
       "        <th>post_directional</th>\n",
       "        <th>phone</th>\n",
       "        <th>program_category</th>\n",
       "        <th>program_category_description</th>\n",
       "        <th>inspection_date</th>\n",
       "        <th>inspection_type</th>\n",
       "        <th>inspection_desc</th>\n",
       "        <th>serial_num</th>\n",
       "        <th>action_code</th>\n",
       "        <th>action_decs</th>\n",
       "        <th>result_code</th>\n",
       "        <th>result_desc</th>\n",
       "        <th>violation_code</th>\n",
       "        <th>violation_desc</th>\n",
       "        <th>inspection_memo</th>\n",
       "    </tr>\n",
       "    <tr>\n",
       "        <td>00BSAY IT WITH CAKE</td>\n",
       "        <td>50534</td>\n",
       "        <td>10200 GOLF COURSE RD NW STE B</td>\n",
       "        <td>ALBUQUERQUE</td>\n",
       "        <td>NM</td>\n",
       "        <td>87114</td>\n",
       "        <td>47341</td>\n",
       "        <td>OOBSAY IT WITH CAKE</td>\n",
       "        <td>CAKE DECORATING</td>\n",
       "        <td>10200</td>\n",
       "        <td>GOLF COURSE</td>\n",
       "        <td>RD</td>\n",
       "        <td>NW</td>\n",
       "        <td>5058339563</td>\n",
       "        <td>0405</td>\n",
       "        <td>Food Processor</td>\n",
       "        <td>2009-10-21 00:00:00</td>\n",
       "        <td>None</td>\n",
       "        <td>EMERGENCY RESPONSE</td>\n",
       "        <td>DA8009125</td>\n",
       "        <td>00</td>\n",
       "        <td>NON-GRADED</td>\n",
       "        <td>00</td>\n",
       "        <td>NOT APPLICABLE</td>\n",
       "        <td>&nbsp;&nbsp;&nbsp;&nbsp;68    </td>\n",
       "        <td>Delivered Informational Brochure</td>\n",
       "        <td>None</td>\n",
       "    </tr>\n",
       "    <tr>\n",
       "        <td>00BSAY IT WITH CAKE</td>\n",
       "        <td>50534</td>\n",
       "        <td>10200 GOLF COURSE RD NW STE B</td>\n",
       "        <td>ALBUQUERQUE</td>\n",
       "        <td>NM</td>\n",
       "        <td>87114</td>\n",
       "        <td>47341</td>\n",
       "        <td>OOBSAY IT WITH CAKE</td>\n",
       "        <td>CAKE DECORATING</td>\n",
       "        <td>10200</td>\n",
       "        <td>GOLF COURSE</td>\n",
       "        <td>RD</td>\n",
       "        <td>NW</td>\n",
       "        <td>5058339563</td>\n",
       "        <td>0405</td>\n",
       "        <td>Food Processor</td>\n",
       "        <td>2009-10-21 00:00:00</td>\n",
       "        <td>None</td>\n",
       "        <td>ROUTINE FOOD INSPECTION</td>\n",
       "        <td>DA8009123</td>\n",
       "        <td>11</td>\n",
       "        <td>APPROVED</td>\n",
       "        <td>03</td>\n",
       "        <td>IN COMPLIANCE</td>\n",
       "        <td>&nbsp;&nbsp;&nbsp;&nbsp;00    </td>\n",
       "        <td>No Violations Found</td>\n",
       "        <td>None</td>\n",
       "    </tr>\n",
       "    <tr>\n",
       "        <td>00BSAY IT WITH CAKE</td>\n",
       "        <td>50534</td>\n",
       "        <td>10200 GOLF COURSE RD NW STE B</td>\n",
       "        <td>ALBUQUERQUE</td>\n",
       "        <td>NM</td>\n",
       "        <td>87114</td>\n",
       "        <td>47341</td>\n",
       "        <td>OOBSAY IT WITH CAKE</td>\n",
       "        <td>CAKE DECORATING</td>\n",
       "        <td>10200</td>\n",
       "        <td>GOLF COURSE</td>\n",
       "        <td>RD</td>\n",
       "        <td>NW</td>\n",
       "        <td>5058339563</td>\n",
       "        <td>0405</td>\n",
       "        <td>Food Processor</td>\n",
       "        <td>2009-10-21 00:00:00</td>\n",
       "        <td>None</td>\n",
       "        <td>ROUTINE FOOD INSPECTION</td>\n",
       "        <td>DA8009123</td>\n",
       "        <td>11</td>\n",
       "        <td>APPROVED</td>\n",
       "        <td>03</td>\n",
       "        <td>IN COMPLIANCE</td>\n",
       "        <td>&nbsp;&nbsp;&nbsp;&nbsp;55    </td>\n",
       "        <td>Additional Comments</td>\n",
       "        <td>None</td>\n",
       "    </tr>\n",
       "    <tr>\n",
       "        <td>00BSAY IT WITH CAKE</td>\n",
       "        <td>50534</td>\n",
       "        <td>10200 GOLF COURSE RD NW STE B</td>\n",
       "        <td>ALBUQUERQUE</td>\n",
       "        <td>NM</td>\n",
       "        <td>87114</td>\n",
       "        <td>47341</td>\n",
       "        <td>OOBSAY IT WITH CAKE</td>\n",
       "        <td>CAKE DECORATING</td>\n",
       "        <td>10200</td>\n",
       "        <td>GOLF COURSE</td>\n",
       "        <td>RD</td>\n",
       "        <td>NW</td>\n",
       "        <td>5058339563</td>\n",
       "        <td>0405</td>\n",
       "        <td>Food Processor</td>\n",
       "        <td>2010-04-14 00:00:00</td>\n",
       "        <td>None</td>\n",
       "        <td>ROUTINE FOOD INSPECTION</td>\n",
       "        <td>DA8010205</td>\n",
       "        <td>11</td>\n",
       "        <td>APPROVED</td>\n",
       "        <td>03</td>\n",
       "        <td>IN COMPLIANCE</td>\n",
       "        <td>&nbsp;&nbsp;&nbsp;&nbsp;00    </td>\n",
       "        <td>No Violations Found</td>\n",
       "        <td>None</td>\n",
       "    </tr>\n",
       "    <tr>\n",
       "        <td>00BSAY IT WITH CAKE</td>\n",
       "        <td>50534</td>\n",
       "        <td>10200 GOLF COURSE RD NW STE B</td>\n",
       "        <td>ALBUQUERQUE</td>\n",
       "        <td>NM</td>\n",
       "        <td>87114</td>\n",
       "        <td>47341</td>\n",
       "        <td>OOBSAY IT WITH CAKE</td>\n",
       "        <td>CAKE DECORATING</td>\n",
       "        <td>10200</td>\n",
       "        <td>GOLF COURSE</td>\n",
       "        <td>RD</td>\n",
       "        <td>NW</td>\n",
       "        <td>5058339563</td>\n",
       "        <td>0405</td>\n",
       "        <td>Food Processor</td>\n",
       "        <td>2010-04-14 00:00:00</td>\n",
       "        <td>None</td>\n",
       "        <td>ROUTINE FOOD INSPECTION</td>\n",
       "        <td>DA8010205</td>\n",
       "        <td>11</td>\n",
       "        <td>APPROVED</td>\n",
       "        <td>03</td>\n",
       "        <td>IN COMPLIANCE</td>\n",
       "        <td>&nbsp;&nbsp;&nbsp;&nbsp;55    </td>\n",
       "        <td>Additional Comments</td>\n",
       "        <td>None</td>\n",
       "    </tr>\n",
       "    <tr>\n",
       "        <td>2000 VIETNAM RESTAURANT</td>\n",
       "        <td>31468</td>\n",
       "        <td>601 SAN MATEO BLVD SE </td>\n",
       "        <td>ALBUQUERQUE</td>\n",
       "        <td>NM</td>\n",
       "        <td>87108</td>\n",
       "        <td>29294</td>\n",
       "        <td>2000 VIETMAN RESTAURANT</td>\n",
       "        <td>RESTAURANT</td>\n",
       "        <td>601</td>\n",
       "        <td>SAN MATEO</td>\n",
       "        <td>BLVD</td>\n",
       "        <td>SE</td>\n",
       "        <td>5052320900</td>\n",
       "        <td>0406</td>\n",
       "        <td>Food Service Establishment</td>\n",
       "        <td>2010-03-23 00:00:00</td>\n",
       "        <td>None</td>\n",
       "        <td>ROUTINE FOOD INSPECTION</td>\n",
       "        <td>DA8509472</td>\n",
       "        <td>11</td>\n",
       "        <td>APPROVED</td>\n",
       "        <td>03</td>\n",
       "        <td>IN COMPLIANCE</td>\n",
       "        <td>&nbsp;&nbsp;&nbsp;&nbsp;34    </td>\n",
       "        <td>Food contact surfaces</td>\n",
       "        <td>None</td>\n",
       "    </tr>\n",
       "    <tr>\n",
       "        <td>2000 VIETNAM RESTAURANT</td>\n",
       "        <td>31468</td>\n",
       "        <td>601 SAN MATEO BLVD SE </td>\n",
       "        <td>ALBUQUERQUE</td>\n",
       "        <td>NM</td>\n",
       "        <td>87108</td>\n",
       "        <td>29294</td>\n",
       "        <td>2000 VIETMAN RESTAURANT</td>\n",
       "        <td>RESTAURANT</td>\n",
       "        <td>601</td>\n",
       "        <td>SAN MATEO</td>\n",
       "        <td>BLVD</td>\n",
       "        <td>SE</td>\n",
       "        <td>5052320900</td>\n",
       "        <td>0406</td>\n",
       "        <td>Food Service Establishment</td>\n",
       "        <td>2010-03-23 00:00:00</td>\n",
       "        <td>None</td>\n",
       "        <td>ROUTINE FOOD INSPECTION</td>\n",
       "        <td>DA8509472</td>\n",
       "        <td>11</td>\n",
       "        <td>APPROVED</td>\n",
       "        <td>03</td>\n",
       "        <td>IN COMPLIANCE</td>\n",
       "        <td>&nbsp;&nbsp;&nbsp;&nbsp;35    </td>\n",
       "        <td>Non-Food contact surfaces</td>\n",
       "        <td>None</td>\n",
       "    </tr>\n",
       "    <tr>\n",
       "        <td>2000 VIETNAM RESTAURANT</td>\n",
       "        <td>31468</td>\n",
       "        <td>601 SAN MATEO BLVD SE </td>\n",
       "        <td>ALBUQUERQUE</td>\n",
       "        <td>NM</td>\n",
       "        <td>87108</td>\n",
       "        <td>29294</td>\n",
       "        <td>2000 VIETMAN RESTAURANT</td>\n",
       "        <td>RESTAURANT</td>\n",
       "        <td>601</td>\n",
       "        <td>SAN MATEO</td>\n",
       "        <td>BLVD</td>\n",
       "        <td>SE</td>\n",
       "        <td>5052320900</td>\n",
       "        <td>0406</td>\n",
       "        <td>Food Service Establishment</td>\n",
       "        <td>2010-03-23 00:00:00</td>\n",
       "        <td>None</td>\n",
       "        <td>ROUTINE FOOD INSPECTION</td>\n",
       "        <td>DA8509472</td>\n",
       "        <td>11</td>\n",
       "        <td>APPROVED</td>\n",
       "        <td>03</td>\n",
       "        <td>IN COMPLIANCE</td>\n",
       "        <td>&nbsp;&nbsp;&nbsp;&nbsp;55    </td>\n",
       "        <td>Additional Comments</td>\n",
       "        <td>None</td>\n",
       "    </tr>\n",
       "    <tr>\n",
       "        <td>328 CHINESE CUISINE</td>\n",
       "        <td>72789</td>\n",
       "        <td>5617 MENAUL BLVD NE STE A</td>\n",
       "        <td>ALBUQUERQUE</td>\n",
       "        <td>NM</td>\n",
       "        <td>87110</td>\n",
       "        <td>66644</td>\n",
       "        <td>328 CHINESE CUISINE</td>\n",
       "        <td>None</td>\n",
       "        <td>5617</td>\n",
       "        <td>MENAUL</td>\n",
       "        <td>BLVD</td>\n",
       "        <td>NE</td>\n",
       "        <td>5058814468</td>\n",
       "        <td>0406</td>\n",
       "        <td>Food Service Establishment</td>\n",
       "        <td>2009-12-15 00:00:00</td>\n",
       "        <td>None</td>\n",
       "        <td>EMERGENCY RESPONSE</td>\n",
       "        <td>DA7757250</td>\n",
       "        <td>00</td>\n",
       "        <td>NON-GRADED</td>\n",
       "        <td>00</td>\n",
       "        <td>NOT APPLICABLE</td>\n",
       "        <td>&nbsp;&nbsp;&nbsp;&nbsp;68    </td>\n",
       "        <td>Delivered Informational Brochure</td>\n",
       "        <td>None</td>\n",
       "    </tr>\n",
       "    <tr>\n",
       "        <td>328 CHINESE CUISINE</td>\n",
       "        <td>72789</td>\n",
       "        <td>5617 MENAUL BLVD NE STE A</td>\n",
       "        <td>ALBUQUERQUE</td>\n",
       "        <td>NM</td>\n",
       "        <td>87110</td>\n",
       "        <td>66644</td>\n",
       "        <td>328 CHINESE CUISINE</td>\n",
       "        <td>None</td>\n",
       "        <td>5617</td>\n",
       "        <td>MENAUL</td>\n",
       "        <td>BLVD</td>\n",
       "        <td>NE</td>\n",
       "        <td>5058814468</td>\n",
       "        <td>0406</td>\n",
       "        <td>Food Service Establishment</td>\n",
       "        <td>2009-12-15 00:00:00</td>\n",
       "        <td>None</td>\n",
       "        <td>ROUTINE FOOD INSPECTION</td>\n",
       "        <td>DA7757248</td>\n",
       "        <td>11</td>\n",
       "        <td>APPROVED</td>\n",
       "        <td>03</td>\n",
       "        <td>IN COMPLIANCE</td>\n",
       "        <td>&nbsp;&nbsp;&nbsp;&nbsp;00    </td>\n",
       "        <td>No Violations Found</td>\n",
       "        <td>None</td>\n",
       "    </tr>\n",
       "</table>"
      ],
      "text/plain": [
       "[('00BSAY IT WITH CAKE', 50534, '10200 GOLF COURSE RD NW STE B', 'ALBUQUERQUE', 'NM', '87114', 47341, 'OOBSAY IT WITH CAKE', 'CAKE DECORATING', '10200', 'GOLF COURSE', 'RD', 'NW', '5058339563', '0405', 'Food Processor', datetime.datetime(2009, 10, 21, 0, 0), None, 'EMERGENCY RESPONSE', 'DA8009125', '00', 'NON-GRADED', '00', 'NOT APPLICABLE', '    68    ', 'Delivered Informational Brochure', None),\n",
       " ('00BSAY IT WITH CAKE', 50534, '10200 GOLF COURSE RD NW STE B', 'ALBUQUERQUE', 'NM', '87114', 47341, 'OOBSAY IT WITH CAKE', 'CAKE DECORATING', '10200', 'GOLF COURSE', 'RD', 'NW', '5058339563', '0405', 'Food Processor', datetime.datetime(2009, 10, 21, 0, 0), None, 'ROUTINE FOOD INSPECTION', 'DA8009123', '11', 'APPROVED', '03', 'IN COMPLIANCE', '    00    ', 'No Violations Found', None),\n",
       " ('00BSAY IT WITH CAKE', 50534, '10200 GOLF COURSE RD NW STE B', 'ALBUQUERQUE', 'NM', '87114', 47341, 'OOBSAY IT WITH CAKE', 'CAKE DECORATING', '10200', 'GOLF COURSE', 'RD', 'NW', '5058339563', '0405', 'Food Processor', datetime.datetime(2009, 10, 21, 0, 0), None, 'ROUTINE FOOD INSPECTION', 'DA8009123', '11', 'APPROVED', '03', 'IN COMPLIANCE', '    55    ', 'Additional Comments', None),\n",
       " ('00BSAY IT WITH CAKE', 50534, '10200 GOLF COURSE RD NW STE B', 'ALBUQUERQUE', 'NM', '87114', 47341, 'OOBSAY IT WITH CAKE', 'CAKE DECORATING', '10200', 'GOLF COURSE', 'RD', 'NW', '5058339563', '0405', 'Food Processor', datetime.datetime(2010, 4, 14, 0, 0), None, 'ROUTINE FOOD INSPECTION', 'DA8010205', '11', 'APPROVED', '03', 'IN COMPLIANCE', '    00    ', 'No Violations Found', None),\n",
       " ('00BSAY IT WITH CAKE', 50534, '10200 GOLF COURSE RD NW STE B', 'ALBUQUERQUE', 'NM', '87114', 47341, 'OOBSAY IT WITH CAKE', 'CAKE DECORATING', '10200', 'GOLF COURSE', 'RD', 'NW', '5058339563', '0405', 'Food Processor', datetime.datetime(2010, 4, 14, 0, 0), None, 'ROUTINE FOOD INSPECTION', 'DA8010205', '11', 'APPROVED', '03', 'IN COMPLIANCE', '    55    ', 'Additional Comments', None),\n",
       " ('2000 VIETNAM RESTAURANT', 31468, '601 SAN MATEO BLVD SE ', 'ALBUQUERQUE', 'NM', '87108', 29294, '2000 VIETMAN RESTAURANT', 'RESTAURANT', '601', 'SAN MATEO', 'BLVD', 'SE', '5052320900', '0406', 'Food Service Establishment', datetime.datetime(2010, 3, 23, 0, 0), None, 'ROUTINE FOOD INSPECTION', 'DA8509472', '11', 'APPROVED', '03', 'IN COMPLIANCE', '    34    ', 'Food contact surfaces', None),\n",
       " ('2000 VIETNAM RESTAURANT', 31468, '601 SAN MATEO BLVD SE ', 'ALBUQUERQUE', 'NM', '87108', 29294, '2000 VIETMAN RESTAURANT', 'RESTAURANT', '601', 'SAN MATEO', 'BLVD', 'SE', '5052320900', '0406', 'Food Service Establishment', datetime.datetime(2010, 3, 23, 0, 0), None, 'ROUTINE FOOD INSPECTION', 'DA8509472', '11', 'APPROVED', '03', 'IN COMPLIANCE', '    35    ', 'Non-Food contact surfaces', None),\n",
       " ('2000 VIETNAM RESTAURANT', 31468, '601 SAN MATEO BLVD SE ', 'ALBUQUERQUE', 'NM', '87108', 29294, '2000 VIETMAN RESTAURANT', 'RESTAURANT', '601', 'SAN MATEO', 'BLVD', 'SE', '5052320900', '0406', 'Food Service Establishment', datetime.datetime(2010, 3, 23, 0, 0), None, 'ROUTINE FOOD INSPECTION', 'DA8509472', '11', 'APPROVED', '03', 'IN COMPLIANCE', '    55    ', 'Additional Comments', None),\n",
       " ('328 CHINESE CUISINE', 72789, '5617 MENAUL BLVD NE STE A', 'ALBUQUERQUE', 'NM', '87110', 66644, '328 CHINESE CUISINE', None, '5617', 'MENAUL', 'BLVD', 'NE', '5058814468', '0406', 'Food Service Establishment', datetime.datetime(2009, 12, 15, 0, 0), None, 'EMERGENCY RESPONSE', 'DA7757250', '00', 'NON-GRADED', '00', 'NOT APPLICABLE', '    68    ', 'Delivered Informational Brochure', None),\n",
       " ('328 CHINESE CUISINE', 72789, '5617 MENAUL BLVD NE STE A', 'ALBUQUERQUE', 'NM', '87110', 66644, '328 CHINESE CUISINE', None, '5617', 'MENAUL', 'BLVD', 'NE', '5058814468', '0406', 'Food Service Establishment', datetime.datetime(2009, 12, 15, 0, 0), None, 'ROUTINE FOOD INSPECTION', 'DA7757248', '11', 'APPROVED', '03', 'IN COMPLIANCE', '    00    ', 'No Violations Found', None)]"
      ]
     },
     "execution_count": 11,
     "metadata": {},
     "output_type": "execute_result"
    }
   ],
   "source": [
    "%%sql\n",
    "SELECT * FROM E4\n",
    "LIMIT 10;"
   ]
  },
  {
   "cell_type": "markdown",
   "metadata": {},
   "source": [
    "## Problem 3 - explore your data (30 points)\n",
    "\n",
    "Now that the data is loaded, ask some questions of it!  Identify key variables of interest and note their ranges along with other useful descriptive statistics.  Choose and define a few lines of inquiry, execute queries for each, and describe what you find in your result sets.  Use any query techniques we've seen in class, including aggregate functions, transformations, subqueries, or others as appropriate. \n",
    "\n",
    "If you find interesting patterns, adding plots to your exploration would be useful.\n",
    "\n",
    "Insert a combination of code and text/markdown cells here to explore your data."
   ]
  },
  {
   "cell_type": "markdown",
   "metadata": {},
   "source": [
    "####  Aggregate functions"
   ]
  },
  {
   "cell_type": "markdown",
   "metadata": {},
   "source": [
    "Q1: Count the number of each kind of result"
   ]
  },
  {
   "cell_type": "code",
   "execution_count": 12,
   "metadata": {
    "collapsed": false,
    "scrolled": true
   },
   "outputs": [
    {
     "name": "stdout",
     "output_type": "stream",
     "text": [
      "19 rows affected.\n"
     ]
    },
    {
     "data": {
      "text/html": [
       "<table>\n",
       "    <tr>\n",
       "        <th>result_desc</th>\n",
       "        <th>count</th>\n",
       "    </tr>\n",
       "    <tr>\n",
       "        <td>EMBARGO</td>\n",
       "        <td>3</td>\n",
       "    </tr>\n",
       "    <tr>\n",
       "        <td>UPGRADE</td>\n",
       "        <td>69</td>\n",
       "    </tr>\n",
       "    <tr>\n",
       "        <td>PERMIT SUSPENSION</td>\n",
       "        <td>2</td>\n",
       "    </tr>\n",
       "    <tr>\n",
       "        <td>IN COMPLIANCE</td>\n",
       "        <td>14389</td>\n",
       "    </tr>\n",
       "    <tr>\n",
       "        <td>PHONE CALL</td>\n",
       "        <td>90</td>\n",
       "    </tr>\n",
       "    <tr>\n",
       "        <td>NOT APPLICABLE</td>\n",
       "        <td>2416</td>\n",
       "    </tr>\n",
       "    <tr>\n",
       "        <td>VOLUNTARY CLOSURE</td>\n",
       "        <td>1</td>\n",
       "    </tr>\n",
       "    <tr>\n",
       "        <td>OUT OF BUSINESS</td>\n",
       "        <td>142</td>\n",
       "    </tr>\n",
       "    <tr>\n",
       "        <td>PERMISSION TO OPERATE</td>\n",
       "        <td>1</td>\n",
       "    </tr>\n",
       "    <tr>\n",
       "        <td>TRAINING RECEIVED</td>\n",
       "        <td>104</td>\n",
       "    </tr>\n",
       "    <tr>\n",
       "        <td>IMMEDIATE CLOSURE</td>\n",
       "        <td>45</td>\n",
       "    </tr>\n",
       "    <tr>\n",
       "        <td>PLAN REVIEW -APPROVED</td>\n",
       "        <td>2</td>\n",
       "    </tr>\n",
       "    <tr>\n",
       "        <td>NOTICE</td>\n",
       "        <td>3</td>\n",
       "    </tr>\n",
       "    <tr>\n",
       "        <td>PERMIT REINSTATEMENT</td>\n",
       "        <td>11</td>\n",
       "    </tr>\n",
       "    <tr>\n",
       "        <td>DOWNGRADE</td>\n",
       "        <td>214</td>\n",
       "    </tr>\n",
       "    <tr>\n",
       "        <td>RECALL VERIFICATION</td>\n",
       "        <td>16</td>\n",
       "    </tr>\n",
       "    <tr>\n",
       "        <td>FACILITY CLOSED AT TIME OF INSPECTION</td>\n",
       "        <td>19</td>\n",
       "    </tr>\n",
       "    <tr>\n",
       "        <td>NOT IN COMPLIANCE</td>\n",
       "        <td>24</td>\n",
       "    </tr>\n",
       "    <tr>\n",
       "        <td>WITNESS TO DESTRUCTION</td>\n",
       "        <td>5</td>\n",
       "    </tr>\n",
       "</table>"
      ],
      "text/plain": [
       "[('EMBARGO', 3),\n",
       " ('UPGRADE', 69),\n",
       " ('PERMIT SUSPENSION', 2),\n",
       " ('IN COMPLIANCE', 14389),\n",
       " ('PHONE CALL', 90),\n",
       " ('NOT APPLICABLE', 2416),\n",
       " ('VOLUNTARY CLOSURE', 1),\n",
       " ('OUT OF BUSINESS', 142),\n",
       " ('PERMISSION TO OPERATE', 1),\n",
       " ('TRAINING RECEIVED', 104),\n",
       " ('IMMEDIATE CLOSURE', 45),\n",
       " ('PLAN REVIEW -APPROVED', 2),\n",
       " ('NOTICE', 3),\n",
       " ('PERMIT REINSTATEMENT', 11),\n",
       " ('DOWNGRADE', 214),\n",
       " ('RECALL VERIFICATION', 16),\n",
       " ('FACILITY CLOSED AT TIME OF INSPECTION', 19),\n",
       " ('NOT IN COMPLIANCE', 24),\n",
       " ('WITNESS TO DESTRUCTION', 5)]"
      ]
     },
     "execution_count": 12,
     "metadata": {},
     "output_type": "execute_result"
    }
   ],
   "source": [
    "%%sql\n",
    "SELECT result_desc,count(*)\n",
    "FROM E4\n",
    "GROUP BY result_desc;"
   ]
  },
  {
   "cell_type": "markdown",
   "metadata": {},
   "source": [
    "Q2: Find the top5 owners that have most facilities"
   ]
  },
  {
   "cell_type": "code",
   "execution_count": 13,
   "metadata": {
    "collapsed": false
   },
   "outputs": [
    {
     "name": "stdout",
     "output_type": "stream",
     "text": [
      "5 rows affected.\n"
     ]
    },
    {
     "data": {
      "text/html": [
       "<table>\n",
       "    <tr>\n",
       "        <th>owner_name</th>\n",
       "        <th>count</th>\n",
       "    </tr>\n",
       "    <tr>\n",
       "        <td>APS</td>\n",
       "        <td>792</td>\n",
       "    </tr>\n",
       "    <tr>\n",
       "        <td>SMITHS FOOD AND DRUG CENTERS INC</td>\n",
       "        <td>321</td>\n",
       "    </tr>\n",
       "    <tr>\n",
       "        <td>CIRCLE K STORES INC</td>\n",
       "        <td>277</td>\n",
       "    </tr>\n",
       "    <tr>\n",
       "        <td>ALBERTSONS</td>\n",
       "        <td>228</td>\n",
       "    </tr>\n",
       "    <tr>\n",
       "        <td>WAL MART STORES EAST  LP</td>\n",
       "        <td>156</td>\n",
       "    </tr>\n",
       "</table>"
      ],
      "text/plain": [
       "[('APS', 792),\n",
       " ('SMITHS FOOD AND DRUG CENTERS INC', 321),\n",
       " ('CIRCLE K STORES INC', 277),\n",
       " ('ALBERTSONS', 228),\n",
       " ('WAL MART STORES EAST  LP', 156)]"
      ]
     },
     "execution_count": 13,
     "metadata": {},
     "output_type": "execute_result"
    }
   ],
   "source": [
    "%%sql\n",
    "SELECT owner_name,count(*) as count\n",
    "FROM E4\n",
    "GROUP BY owner_name\n",
    "ORDER BY count DESC \n",
    "LIMIT 5;"
   ]
  },
  {
   "cell_type": "code",
   "execution_count": 14,
   "metadata": {
    "collapsed": false
   },
   "outputs": [
    {
     "name": "stderr",
     "output_type": "stream",
     "text": [
      "/opt/conda/lib/python3.5/site-packages/matplotlib/font_manager.py:273: UserWarning: Matplotlib is building the font cache using fc-list. This may take a moment.\n",
      "  warnings.warn('Matplotlib is building the font cache using fc-list. This may take a moment.')\n",
      "/opt/conda/lib/python3.5/site-packages/matplotlib/font_manager.py:273: UserWarning: Matplotlib is building the font cache using fc-list. This may take a moment.\n",
      "  warnings.warn('Matplotlib is building the font cache using fc-list. This may take a moment.')\n"
     ]
    },
    {
     "data": {
      "text/plain": [
       "<Container object of 5 artists>"
      ]
     },
     "execution_count": 14,
     "metadata": {},
     "output_type": "execute_result"
    },
    {
     "data": {
      "image/png": "[encoded data removed]",
      "text/plain": [
       "<matplotlib.figure.Figure at 0x7f80b89d4a58>"
      ]
     },
     "metadata": {},
     "output_type": "display_data"
    }
   ],
   "source": [
    "%matplotlib inline\n",
    "result=_\n",
    "result.bar()"
   ]
  },
  {
   "cell_type": "markdown",
   "metadata": {},
   "source": [
    "#### Transformations"
   ]
  },
  {
   "cell_type": "markdown",
   "metadata": {},
   "source": [
    "Q3：Create new table about inspection.Find out the number of inspections for each quater and show the quater which has the most one."
   ]
  },
  {
   "cell_type": "code",
   "execution_count": 15,
   "metadata": {
    "collapsed": false
   },
   "outputs": [
    {
     "name": "stdout",
     "output_type": "stream",
     "text": [
      "Done.\n",
      "Done.\n"
     ]
    },
    {
     "data": {
      "text/plain": [
       "[]"
      ]
     },
     "execution_count": 15,
     "metadata": {},
     "output_type": "execute_result"
    }
   ],
   "source": [
    "%%sql\n",
    "DROP TABLE IF EXISTS inspection_days;\n",
    "CREATE TABLE inspection_days (\n",
    "    id SERIAL,\n",
    "    inspection_date CHAR(10),\n",
    "    inspection_year INTEGER,\n",
    "    inspection_month INTEGER,\n",
    "    inspection_day INTEGER,\n",
    "    day_of_week_str CHAR(9),\n",
    "    day_of_week INTEGER,\n",
    "    is_weekend BOOLEAN,\n",
    "    is_weekday BOOLEAN,\n",
    "    hour_24 INTEGER,\n",
    "    quarter INTEGER\n",
    ");"
   ]
  },
  {
   "cell_type": "code",
   "execution_count": 16,
   "metadata": {
    "collapsed": false
   },
   "outputs": [
    {
     "name": "stdout",
     "output_type": "stream",
     "text": [
      "17556 rows affected.\n"
     ]
    },
    {
     "data": {
      "text/plain": [
       "[]"
      ]
     },
     "execution_count": 16,
     "metadata": {},
     "output_type": "execute_result"
    }
   ],
   "source": [
    "%%sql\n",
    "INSERT INTO inspection_days (inspection_date, inspection_year, inspection_month, inspection_day, day_of_week_str, day_of_week,\n",
    "                  is_weekend, is_weekday, hour_24, quarter)\n",
    "SELECT TO_CHAR(inspection_date, 'YYYY-MM-DD') AS inspection_date, \n",
    "    CAST(TO_CHAR(inspection_date, 'YYYY') AS INTEGER) AS inspection_year,\n",
    "    CAST(TO_CHAR(inspection_date, 'MM') AS INTEGER) AS inspection_month,\n",
    "    CAST(TO_CHAR(inspection_date, 'DD') AS INTEGER) AS inspection_date,\n",
    "    TO_CHAR(inspection_date, 'Day') AS day_of_week_str,\n",
    "    CAST(TO_CHAR(inspection_date, 'D') AS INTEGER) AS day_of_week,\n",
    "    CASE WHEN CAST(TO_CHAR(inspection_date, 'D') AS INTEGER) IN (1, 7) \n",
    "        THEN TRUE\n",
    "        ELSE FALSE\n",
    "    END AS is_weekend,\n",
    "    CASE WHEN CAST(TO_CHAR(inspection_date, 'D') AS INTEGER) NOT IN (1, 7) \n",
    "        THEN TRUE\n",
    "        ELSE FALSE\n",
    "    END AS is_weekday,\n",
    "    CAST(TO_CHAR(inspection_date, 'HH24') AS INTEGER) AS hour_24,\n",
    "    CAST(TO_CHAR(inspection_date, 'Q') AS INTEGER) AS quarter\n",
    "FROM E4;"
   ]
  },
  {
   "cell_type": "code",
   "execution_count": 20,
   "metadata": {
    "collapsed": false
   },
   "outputs": [
    {
     "name": "stdout",
     "output_type": "stream",
     "text": [
      "10 rows affected.\n"
     ]
    },
    {
     "data": {
      "text/html": [
       "<table>\n",
       "    <tr>\n",
       "        <th>inspection_date</th>\n",
       "        <th>inspection_year</th>\n",
       "        <th>inspection_month</th>\n",
       "        <th>inspection_day</th>\n",
       "        <th>quarter</th>\n",
       "    </tr>\n",
       "    <tr>\n",
       "        <td>2009-10-21</td>\n",
       "        <td>2009</td>\n",
       "        <td>10</td>\n",
       "        <td>21</td>\n",
       "        <td>4</td>\n",
       "    </tr>\n",
       "    <tr>\n",
       "        <td>2009-10-21</td>\n",
       "        <td>2009</td>\n",
       "        <td>10</td>\n",
       "        <td>21</td>\n",
       "        <td>4</td>\n",
       "    </tr>\n",
       "    <tr>\n",
       "        <td>2009-10-21</td>\n",
       "        <td>2009</td>\n",
       "        <td>10</td>\n",
       "        <td>21</td>\n",
       "        <td>4</td>\n",
       "    </tr>\n",
       "    <tr>\n",
       "        <td>2010-04-14</td>\n",
       "        <td>2010</td>\n",
       "        <td>4</td>\n",
       "        <td>14</td>\n",
       "        <td>2</td>\n",
       "    </tr>\n",
       "    <tr>\n",
       "        <td>2010-04-14</td>\n",
       "        <td>2010</td>\n",
       "        <td>4</td>\n",
       "        <td>14</td>\n",
       "        <td>2</td>\n",
       "    </tr>\n",
       "    <tr>\n",
       "        <td>2010-03-23</td>\n",
       "        <td>2010</td>\n",
       "        <td>3</td>\n",
       "        <td>23</td>\n",
       "        <td>1</td>\n",
       "    </tr>\n",
       "    <tr>\n",
       "        <td>2010-03-23</td>\n",
       "        <td>2010</td>\n",
       "        <td>3</td>\n",
       "        <td>23</td>\n",
       "        <td>1</td>\n",
       "    </tr>\n",
       "    <tr>\n",
       "        <td>2010-03-23</td>\n",
       "        <td>2010</td>\n",
       "        <td>3</td>\n",
       "        <td>23</td>\n",
       "        <td>1</td>\n",
       "    </tr>\n",
       "    <tr>\n",
       "        <td>2009-12-15</td>\n",
       "        <td>2009</td>\n",
       "        <td>12</td>\n",
       "        <td>15</td>\n",
       "        <td>4</td>\n",
       "    </tr>\n",
       "    <tr>\n",
       "        <td>2009-12-15</td>\n",
       "        <td>2009</td>\n",
       "        <td>12</td>\n",
       "        <td>15</td>\n",
       "        <td>4</td>\n",
       "    </tr>\n",
       "</table>"
      ],
      "text/plain": [
       "[('2009-10-21', 2009, 10, 21, 4),\n",
       " ('2009-10-21', 2009, 10, 21, 4),\n",
       " ('2009-10-21', 2009, 10, 21, 4),\n",
       " ('2010-04-14', 2010, 4, 14, 2),\n",
       " ('2010-04-14', 2010, 4, 14, 2),\n",
       " ('2010-03-23', 2010, 3, 23, 1),\n",
       " ('2010-03-23', 2010, 3, 23, 1),\n",
       " ('2010-03-23', 2010, 3, 23, 1),\n",
       " ('2009-12-15', 2009, 12, 15, 4),\n",
       " ('2009-12-15', 2009, 12, 15, 4)]"
      ]
     },
     "execution_count": 20,
     "metadata": {},
     "output_type": "execute_result"
    }
   ],
   "source": [
    "%%sql\n",
    "SELECT inspection_date,\n",
    "    inspection_year, \n",
    "    inspection_month, \n",
    "    inspection_day,\n",
    "    quarter\n",
    "FROM inspection_days\n",
    "LIMIT 10\n",
    ";"
   ]
  },
  {
   "cell_type": "code",
   "execution_count": 23,
   "metadata": {
    "collapsed": false
   },
   "outputs": [
    {
     "name": "stdout",
     "output_type": "stream",
     "text": [
      "4 rows affected.\n"
     ]
    },
    {
     "data": {
      "text/html": [
       "<table>\n",
       "    <tr>\n",
       "        <th>quarter</th>\n",
       "        <th>inspection_num</th>\n",
       "    </tr>\n",
       "    <tr>\n",
       "        <td>2</td>\n",
       "        <td>2584</td>\n",
       "    </tr>\n",
       "    <tr>\n",
       "        <td>1</td>\n",
       "        <td>4341</td>\n",
       "    </tr>\n",
       "    <tr>\n",
       "        <td>4</td>\n",
       "        <td>5468</td>\n",
       "    </tr>\n",
       "    <tr>\n",
       "        <td>3</td>\n",
       "        <td>5163</td>\n",
       "    </tr>\n",
       "</table>"
      ],
      "text/plain": [
       "[(2, 2584), (1, 4341), (4, 5468), (3, 5163)]"
      ]
     },
     "execution_count": 23,
     "metadata": {},
     "output_type": "execute_result"
    }
   ],
   "source": [
    "%%sql\n",
    "SELECT quarter,count(*) as inspection_num\n",
    "FROM inspection_days\n",
    "GROUP BY quarter;"
   ]
  },
  {
   "cell_type": "code",
   "execution_count": 24,
   "metadata": {
    "collapsed": false
   },
   "outputs": [
    {
     "name": "stdout",
     "output_type": "stream",
     "text": [
      "1 rows affected.\n"
     ]
    },
    {
     "data": {
      "text/html": [
       "<table>\n",
       "    <tr>\n",
       "        <th>quarter</th>\n",
       "        <th>inspection_num</th>\n",
       "    </tr>\n",
       "    <tr>\n",
       "        <td>4</td>\n",
       "        <td>5468</td>\n",
       "    </tr>\n",
       "</table>"
      ],
      "text/plain": [
       "[(4, 5468)]"
      ]
     },
     "execution_count": 24,
     "metadata": {},
     "output_type": "execute_result"
    }
   ],
   "source": [
    "%%sql\n",
    "SELECT quarter,count(*) as inspection_num\n",
    "FROM inspection_days\n",
    "GROUP BY quarter\n",
    "ORDER BY inspection_num DESC\n",
    "LIMIT 1;"
   ]
  },
  {
   "cell_type": "markdown",
   "metadata": {},
   "source": [
    "#### Subqueries"
   ]
  },
  {
   "cell_type": "markdown",
   "metadata": {},
   "source": [
    "Q4: Find out the TOP3 facilities that have most number of inspections and also belongs to the top5 owners that have the most facilities."
   ]
  },
  {
   "cell_type": "code",
   "execution_count": 35,
   "metadata": {
    "collapsed": false
   },
   "outputs": [
    {
     "name": "stdout",
     "output_type": "stream",
     "text": [
      "3 rows affected.\n"
     ]
    },
    {
     "data": {
      "text/html": [
       "<table>\n",
       "    <tr>\n",
       "        <th>facility_name</th>\n",
       "        <th>num_inspection</th>\n",
       "    </tr>\n",
       "    <tr>\n",
       "        <td>SMITHS FOOD AND DRUG CENTERS INC</td>\n",
       "        <td>154</td>\n",
       "    </tr>\n",
       "    <tr>\n",
       "        <td>CIRCLE K 8936</td>\n",
       "        <td>66</td>\n",
       "    </tr>\n",
       "    <tr>\n",
       "        <td>CIRCLE K 8940</td>\n",
       "        <td>61</td>\n",
       "    </tr>\n",
       "</table>"
      ],
      "text/plain": [
       "[('SMITHS FOOD AND DRUG CENTERS INC', 154),\n",
       " ('CIRCLE K 8936', 66),\n",
       " ('CIRCLE K 8940', 61)]"
      ]
     },
     "execution_count": 35,
     "metadata": {},
     "output_type": "execute_result"
    }
   ],
   "source": [
    "%%sql\n",
    "SELECT facility_name,count(*) as num_inspection\n",
    "FROM E4\n",
    "WHERE owner_name in (SELECT owner_name\n",
    "                     FROM E4\n",
    "                     GROUP BY owner_name\n",
    "                     ORDER BY count(*) DESC \n",
    "                     LIMIT 5)\n",
    "GROUP BY facility_name\n",
    "ORDER BY num_inspection DESC\n",
    "LIMIT 3;\n"
   ]
  },
  {
   "cell_type": "code",
   "execution_count": null,
   "metadata": {
    "collapsed": true
   },
   "outputs": [],
   "source": []
  },
  {
   "cell_type": "markdown",
   "metadata": {},
   "source": [
    "## Bonus (10 points)\n",
    "\n",
    "We have seen a few simple techniques for normalizing data in class.  Choose a column or set of columns that might be redundant and normalize them out to another table:\n",
    "\n",
    "* Identify the columns to normalize in the source data table\n",
    "* Create one or more new tables to hold the normalized records\n",
    "* Extract data into the new tables\n",
    "* Re-insert the new foreign key references from the new table into the source table"
   ]
  },
  {
   "cell_type": "markdown",
   "metadata": {},
   "source": [
    "\n",
    "#### function checkdependency check if two columns are dependent (bijection)\n",
    "\n",
    "found that facility_name & facility_key, owner_name&owner_key, violation_code&violation_desc, street_number&street_name\n",
    "there pairs are not dependent, which means they cannot be extracted to new table\n"
   ]
  },
  {
   "cell_type": "code",
   "execution_count": 16,
   "metadata": {
    "collapsed": false
   },
   "outputs": [
    {
     "name": "stdout",
     "output_type": "stream",
     "text": [
      "Done.\n"
     ]
    },
    {
     "data": {
      "text/plain": [
       "[]"
      ]
     },
     "execution_count": 16,
     "metadata": {},
     "output_type": "execute_result"
    }
   ],
   "source": [
    "%%sql\n",
    "CREATE OR REPLACE FUNCTION checkdependency(text,text) RETURNS text AS $$\n",
    "DECLARE\n",
    "    result text; \n",
    "    c1 text;\n",
    "    c2 text;\n",
    "    r1 boolean;\n",
    "    r2 boolean;\n",
    "BEGIN\n",
    "    c1 := $1;\n",
    "    c2 := $2;\n",
    "    EXECUTE 'SELECT count(*)=0 FROM ( SELECT '|| c1 ||' FROM ( SELECT distinct('|| c1 ||'),'||c2||' FROM E4 )t1 GROUP BY '|| c1 ||' HAVING count(*)>1)t2'\n",
    "        INTO r1;\n",
    "    EXECUTE 'SELECT count(*)=0 FROM ( SELECT '|| c2 ||' FROM ( SELECT distinct('|| c2 ||'),'||c1||' FROM E4 )t1 GROUP BY '|| c2 ||' HAVING count(*)>1)t2'\n",
    "        INTO r2;\n",
    "    SELECT r1 AND r2 INTO result;\n",
    "    RETURN result;\n",
    "END\n",
    "$$ LANGUAGE plpgsql;"
   ]
  },
  {
   "cell_type": "code",
   "execution_count": 24,
   "metadata": {
    "collapsed": false
   },
   "outputs": [
    {
     "name": "stdout",
     "output_type": "stream",
     "text": [
      "1 rows affected.\n"
     ]
    },
    {
     "data": {
      "text/html": [
       "<table>\n",
       "    <tr>\n",
       "        <th>checkdependency</th>\n",
       "    </tr>\n",
       "    <tr>\n",
       "        <td>false</td>\n",
       "    </tr>\n",
       "</table>"
      ],
      "text/plain": [
       "[('false',)]"
      ]
     },
     "execution_count": 24,
     "metadata": {},
     "output_type": "execute_result"
    }
   ],
   "source": [
    "%%sql \n",
    "SELECT checkdependency('violation_code','violation_desc');"
   ]
  },
  {
   "cell_type": "code",
   "execution_count": 25,
   "metadata": {
    "collapsed": false
   },
   "outputs": [
    {
     "name": "stdout",
     "output_type": "stream",
     "text": [
      "1 rows affected.\n"
     ]
    },
    {
     "data": {
      "text/html": [
       "<table>\n",
       "    <tr>\n",
       "        <th>checkdependency</th>\n",
       "    </tr>\n",
       "    <tr>\n",
       "        <td>true</td>\n",
       "    </tr>\n",
       "</table>"
      ],
      "text/plain": [
       "[('true',)]"
      ]
     },
     "execution_count": 25,
     "metadata": {},
     "output_type": "execute_result"
    }
   ],
   "source": [
    "%%sql \n",
    "SELECT checkdependency('result_code','result_desc');"
   ]
  },
  {
   "cell_type": "code",
   "execution_count": 26,
   "metadata": {
    "collapsed": false
   },
   "outputs": [
    {
     "name": "stdout",
     "output_type": "stream",
     "text": [
      "1 rows affected.\n"
     ]
    },
    {
     "data": {
      "text/html": [
       "<table>\n",
       "    <tr>\n",
       "        <th>checkdependency</th>\n",
       "    </tr>\n",
       "    <tr>\n",
       "        <td>true</td>\n",
       "    </tr>\n",
       "</table>"
      ],
      "text/plain": [
       "[('true',)]"
      ]
     },
     "execution_count": 26,
     "metadata": {},
     "output_type": "execute_result"
    }
   ],
   "source": [
    "%%sql \n",
    "SELECT checkdependency('action_code','action_decs');"
   ]
  },
  {
   "cell_type": "code",
   "execution_count": 27,
   "metadata": {
    "collapsed": false
   },
   "outputs": [
    {
     "name": "stdout",
     "output_type": "stream",
     "text": [
      "1 rows affected.\n"
     ]
    },
    {
     "data": {
      "text/html": [
       "<table>\n",
       "    <tr>\n",
       "        <th>checkdependency</th>\n",
       "    </tr>\n",
       "    <tr>\n",
       "        <td>false</td>\n",
       "    </tr>\n",
       "</table>"
      ],
      "text/plain": [
       "[('false',)]"
      ]
     },
     "execution_count": 27,
     "metadata": {},
     "output_type": "execute_result"
    }
   ],
   "source": [
    "%%sql \n",
    "SELECT checkdependency('facility_key','facility_name');"
   ]
  },
  {
   "cell_type": "code",
   "execution_count": 28,
   "metadata": {
    "collapsed": false
   },
   "outputs": [
    {
     "name": "stdout",
     "output_type": "stream",
     "text": [
      "1 rows affected.\n"
     ]
    },
    {
     "data": {
      "text/html": [
       "<table>\n",
       "    <tr>\n",
       "        <th>checkdependency</th>\n",
       "    </tr>\n",
       "    <tr>\n",
       "        <td>false</td>\n",
       "    </tr>\n",
       "</table>"
      ],
      "text/plain": [
       "[('false',)]"
      ]
     },
     "execution_count": 28,
     "metadata": {},
     "output_type": "execute_result"
    }
   ],
   "source": [
    "%%sql \n",
    "SELECT checkdependency('owner_key','owner_name');"
   ]
  },
  {
   "cell_type": "code",
   "execution_count": 29,
   "metadata": {
    "collapsed": false
   },
   "outputs": [
    {
     "name": "stdout",
     "output_type": "stream",
     "text": [
      "146 rows affected.\n"
     ]
    },
    {
     "data": {
      "text/html": [
       "<table>\n",
       "    <tr>\n",
       "        <th>owner_name</th>\n",
       "        <th>owner_key</th>\n",
       "    </tr>\n",
       "    <tr>\n",
       "        <td>PALO ALTO INC</td>\n",
       "        <td>42208</td>\n",
       "    </tr>\n",
       "    <tr>\n",
       "        <td>PALO ALTO INC</td>\n",
       "        <td>42208</td>\n",
       "    </tr>\n",
       "    <tr>\n",
       "        <td>PALO ALTO INC</td>\n",
       "        <td>42208</td>\n",
       "    </tr>\n",
       "    <tr>\n",
       "        <td>PALO ALTO INC</td>\n",
       "        <td>42208</td>\n",
       "    </tr>\n",
       "    <tr>\n",
       "        <td>PALO ALTO INC</td>\n",
       "        <td>42208</td>\n",
       "    </tr>\n",
       "    <tr>\n",
       "        <td>PALO ALTO INC</td>\n",
       "        <td>6194</td>\n",
       "    </tr>\n",
       "    <tr>\n",
       "        <td>PALO ALTO INC</td>\n",
       "        <td>6194</td>\n",
       "    </tr>\n",
       "    <tr>\n",
       "        <td>PALO ALTO INC</td>\n",
       "        <td>6194</td>\n",
       "    </tr>\n",
       "    <tr>\n",
       "        <td>PALO ALTO INC</td>\n",
       "        <td>6194</td>\n",
       "    </tr>\n",
       "    <tr>\n",
       "        <td>PALO ALTO INC</td>\n",
       "        <td>6194</td>\n",
       "    </tr>\n",
       "    <tr>\n",
       "        <td>PALO ALTO INC</td>\n",
       "        <td>6194</td>\n",
       "    </tr>\n",
       "    <tr>\n",
       "        <td>PALO ALTO INC</td>\n",
       "        <td>6194</td>\n",
       "    </tr>\n",
       "    <tr>\n",
       "        <td>PALO ALTO INC</td>\n",
       "        <td>6194</td>\n",
       "    </tr>\n",
       "    <tr>\n",
       "        <td>PALO ALTO INC</td>\n",
       "        <td>6194</td>\n",
       "    </tr>\n",
       "    <tr>\n",
       "        <td>PALO ALTO INC</td>\n",
       "        <td>6194</td>\n",
       "    </tr>\n",
       "    <tr>\n",
       "        <td>PALO ALTO INC</td>\n",
       "        <td>6194</td>\n",
       "    </tr>\n",
       "    <tr>\n",
       "        <td>PALO ALTO INC</td>\n",
       "        <td>6194</td>\n",
       "    </tr>\n",
       "    <tr>\n",
       "        <td>PALO ALTO INC</td>\n",
       "        <td>6194</td>\n",
       "    </tr>\n",
       "    <tr>\n",
       "        <td>PALO ALTO INC</td>\n",
       "        <td>6194</td>\n",
       "    </tr>\n",
       "    <tr>\n",
       "        <td>PALO ALTO INC</td>\n",
       "        <td>6194</td>\n",
       "    </tr>\n",
       "    <tr>\n",
       "        <td>PALO ALTO INC</td>\n",
       "        <td>6194</td>\n",
       "    </tr>\n",
       "    <tr>\n",
       "        <td>PALO ALTO INC</td>\n",
       "        <td>6194</td>\n",
       "    </tr>\n",
       "    <tr>\n",
       "        <td>PALO ALTO INC</td>\n",
       "        <td>6194</td>\n",
       "    </tr>\n",
       "    <tr>\n",
       "        <td>PALO ALTO INC</td>\n",
       "        <td>42208</td>\n",
       "    </tr>\n",
       "    <tr>\n",
       "        <td>PALO ALTO INC</td>\n",
       "        <td>42208</td>\n",
       "    </tr>\n",
       "    <tr>\n",
       "        <td>PALO ALTO INC</td>\n",
       "        <td>42208</td>\n",
       "    </tr>\n",
       "    <tr>\n",
       "        <td>PALO ALTO INC</td>\n",
       "        <td>6194</td>\n",
       "    </tr>\n",
       "    <tr>\n",
       "        <td>PALO ALTO INC</td>\n",
       "        <td>6194</td>\n",
       "    </tr>\n",
       "    <tr>\n",
       "        <td>PALO ALTO INC</td>\n",
       "        <td>6194</td>\n",
       "    </tr>\n",
       "    <tr>\n",
       "        <td>PALO ALTO INC</td>\n",
       "        <td>6194</td>\n",
       "    </tr>\n",
       "    <tr>\n",
       "        <td>PALO ALTO INC</td>\n",
       "        <td>6194</td>\n",
       "    </tr>\n",
       "    <tr>\n",
       "        <td>PALO ALTO INC</td>\n",
       "        <td>6194</td>\n",
       "    </tr>\n",
       "    <tr>\n",
       "        <td>PALO ALTO INC</td>\n",
       "        <td>6194</td>\n",
       "    </tr>\n",
       "    <tr>\n",
       "        <td>PALO ALTO INC</td>\n",
       "        <td>6194</td>\n",
       "    </tr>\n",
       "    <tr>\n",
       "        <td>PALO ALTO INC</td>\n",
       "        <td>6194</td>\n",
       "    </tr>\n",
       "    <tr>\n",
       "        <td>PALO ALTO INC</td>\n",
       "        <td>6194</td>\n",
       "    </tr>\n",
       "    <tr>\n",
       "        <td>PALO ALTO INC</td>\n",
       "        <td>6194</td>\n",
       "    </tr>\n",
       "    <tr>\n",
       "        <td>PALO ALTO INC</td>\n",
       "        <td>6194</td>\n",
       "    </tr>\n",
       "    <tr>\n",
       "        <td>PALO ALTO INC</td>\n",
       "        <td>6194</td>\n",
       "    </tr>\n",
       "    <tr>\n",
       "        <td>PALO ALTO INC</td>\n",
       "        <td>6194</td>\n",
       "    </tr>\n",
       "    <tr>\n",
       "        <td>PALO ALTO INC</td>\n",
       "        <td>6194</td>\n",
       "    </tr>\n",
       "    <tr>\n",
       "        <td>PALO ALTO INC</td>\n",
       "        <td>6194</td>\n",
       "    </tr>\n",
       "    <tr>\n",
       "        <td>PALO ALTO INC</td>\n",
       "        <td>6194</td>\n",
       "    </tr>\n",
       "    <tr>\n",
       "        <td>PALO ALTO INC</td>\n",
       "        <td>6194</td>\n",
       "    </tr>\n",
       "    <tr>\n",
       "        <td>PALO ALTO INC</td>\n",
       "        <td>6194</td>\n",
       "    </tr>\n",
       "    <tr>\n",
       "        <td>PALO ALTO INC</td>\n",
       "        <td>6194</td>\n",
       "    </tr>\n",
       "    <tr>\n",
       "        <td>PALO ALTO INC</td>\n",
       "        <td>6194</td>\n",
       "    </tr>\n",
       "    <tr>\n",
       "        <td>PALO ALTO INC</td>\n",
       "        <td>6194</td>\n",
       "    </tr>\n",
       "    <tr>\n",
       "        <td>PALO ALTO INC</td>\n",
       "        <td>6194</td>\n",
       "    </tr>\n",
       "    <tr>\n",
       "        <td>PALO ALTO INC</td>\n",
       "        <td>6194</td>\n",
       "    </tr>\n",
       "    <tr>\n",
       "        <td>PALO ALTO INC</td>\n",
       "        <td>6194</td>\n",
       "    </tr>\n",
       "    <tr>\n",
       "        <td>PALO ALTO INC</td>\n",
       "        <td>6194</td>\n",
       "    </tr>\n",
       "    <tr>\n",
       "        <td>PALO ALTO INC</td>\n",
       "        <td>6194</td>\n",
       "    </tr>\n",
       "    <tr>\n",
       "        <td>PALO ALTO INC</td>\n",
       "        <td>6194</td>\n",
       "    </tr>\n",
       "    <tr>\n",
       "        <td>PALO ALTO INC</td>\n",
       "        <td>6194</td>\n",
       "    </tr>\n",
       "    <tr>\n",
       "        <td>PALO ALTO INC</td>\n",
       "        <td>6194</td>\n",
       "    </tr>\n",
       "    <tr>\n",
       "        <td>PALO ALTO INC</td>\n",
       "        <td>6194</td>\n",
       "    </tr>\n",
       "    <tr>\n",
       "        <td>PALO ALTO INC</td>\n",
       "        <td>6194</td>\n",
       "    </tr>\n",
       "    <tr>\n",
       "        <td>PALO ALTO INC</td>\n",
       "        <td>6194</td>\n",
       "    </tr>\n",
       "    <tr>\n",
       "        <td>PALO ALTO INC</td>\n",
       "        <td>6194</td>\n",
       "    </tr>\n",
       "    <tr>\n",
       "        <td>PALO ALTO INC</td>\n",
       "        <td>6194</td>\n",
       "    </tr>\n",
       "    <tr>\n",
       "        <td>PALO ALTO INC</td>\n",
       "        <td>6194</td>\n",
       "    </tr>\n",
       "    <tr>\n",
       "        <td>PALO ALTO INC</td>\n",
       "        <td>6194</td>\n",
       "    </tr>\n",
       "    <tr>\n",
       "        <td>PALO ALTO INC</td>\n",
       "        <td>6194</td>\n",
       "    </tr>\n",
       "    <tr>\n",
       "        <td>PALO ALTO INC</td>\n",
       "        <td>6194</td>\n",
       "    </tr>\n",
       "    <tr>\n",
       "        <td>PALO ALTO INC</td>\n",
       "        <td>6194</td>\n",
       "    </tr>\n",
       "    <tr>\n",
       "        <td>PALO ALTO INC</td>\n",
       "        <td>6194</td>\n",
       "    </tr>\n",
       "    <tr>\n",
       "        <td>PALO ALTO INC</td>\n",
       "        <td>6194</td>\n",
       "    </tr>\n",
       "    <tr>\n",
       "        <td>PALO ALTO INC</td>\n",
       "        <td>6194</td>\n",
       "    </tr>\n",
       "    <tr>\n",
       "        <td>PALO ALTO INC</td>\n",
       "        <td>6194</td>\n",
       "    </tr>\n",
       "    <tr>\n",
       "        <td>PALO ALTO INC</td>\n",
       "        <td>6194</td>\n",
       "    </tr>\n",
       "    <tr>\n",
       "        <td>PALO ALTO INC</td>\n",
       "        <td>6194</td>\n",
       "    </tr>\n",
       "    <tr>\n",
       "        <td>PALO ALTO INC</td>\n",
       "        <td>6194</td>\n",
       "    </tr>\n",
       "    <tr>\n",
       "        <td>PALO ALTO INC</td>\n",
       "        <td>6194</td>\n",
       "    </tr>\n",
       "    <tr>\n",
       "        <td>PALO ALTO INC</td>\n",
       "        <td>6194</td>\n",
       "    </tr>\n",
       "    <tr>\n",
       "        <td>PALO ALTO INC</td>\n",
       "        <td>6194</td>\n",
       "    </tr>\n",
       "    <tr>\n",
       "        <td>PALO ALTO INC</td>\n",
       "        <td>6194</td>\n",
       "    </tr>\n",
       "    <tr>\n",
       "        <td>PALO ALTO INC</td>\n",
       "        <td>6194</td>\n",
       "    </tr>\n",
       "    <tr>\n",
       "        <td>PALO ALTO INC</td>\n",
       "        <td>6194</td>\n",
       "    </tr>\n",
       "    <tr>\n",
       "        <td>PALO ALTO INC</td>\n",
       "        <td>6194</td>\n",
       "    </tr>\n",
       "    <tr>\n",
       "        <td>PALO ALTO INC</td>\n",
       "        <td>6194</td>\n",
       "    </tr>\n",
       "    <tr>\n",
       "        <td>PALO ALTO INC</td>\n",
       "        <td>6194</td>\n",
       "    </tr>\n",
       "    <tr>\n",
       "        <td>PALO ALTO INC</td>\n",
       "        <td>6194</td>\n",
       "    </tr>\n",
       "    <tr>\n",
       "        <td>PALO ALTO INC</td>\n",
       "        <td>6194</td>\n",
       "    </tr>\n",
       "    <tr>\n",
       "        <td>PALO ALTO INC</td>\n",
       "        <td>6194</td>\n",
       "    </tr>\n",
       "    <tr>\n",
       "        <td>PALO ALTO INC</td>\n",
       "        <td>6194</td>\n",
       "    </tr>\n",
       "    <tr>\n",
       "        <td>PALO ALTO INC</td>\n",
       "        <td>6194</td>\n",
       "    </tr>\n",
       "    <tr>\n",
       "        <td>PALO ALTO INC</td>\n",
       "        <td>6194</td>\n",
       "    </tr>\n",
       "    <tr>\n",
       "        <td>PALO ALTO INC</td>\n",
       "        <td>6194</td>\n",
       "    </tr>\n",
       "    <tr>\n",
       "        <td>PALO ALTO INC</td>\n",
       "        <td>6194</td>\n",
       "    </tr>\n",
       "    <tr>\n",
       "        <td>PALO ALTO INC</td>\n",
       "        <td>6194</td>\n",
       "    </tr>\n",
       "    <tr>\n",
       "        <td>PALO ALTO INC</td>\n",
       "        <td>6194</td>\n",
       "    </tr>\n",
       "    <tr>\n",
       "        <td>PALO ALTO INC</td>\n",
       "        <td>6194</td>\n",
       "    </tr>\n",
       "    <tr>\n",
       "        <td>PALO ALTO INC</td>\n",
       "        <td>6194</td>\n",
       "    </tr>\n",
       "    <tr>\n",
       "        <td>PALO ALTO INC</td>\n",
       "        <td>6194</td>\n",
       "    </tr>\n",
       "    <tr>\n",
       "        <td>PALO ALTO INC</td>\n",
       "        <td>6194</td>\n",
       "    </tr>\n",
       "    <tr>\n",
       "        <td>PALO ALTO INC</td>\n",
       "        <td>6194</td>\n",
       "    </tr>\n",
       "    <tr>\n",
       "        <td>PALO ALTO INC</td>\n",
       "        <td>6194</td>\n",
       "    </tr>\n",
       "    <tr>\n",
       "        <td>PALO ALTO INC</td>\n",
       "        <td>6194</td>\n",
       "    </tr>\n",
       "    <tr>\n",
       "        <td>PALO ALTO INC</td>\n",
       "        <td>6194</td>\n",
       "    </tr>\n",
       "    <tr>\n",
       "        <td>PALO ALTO INC</td>\n",
       "        <td>6194</td>\n",
       "    </tr>\n",
       "    <tr>\n",
       "        <td>PALO ALTO INC</td>\n",
       "        <td>6194</td>\n",
       "    </tr>\n",
       "    <tr>\n",
       "        <td>PALO ALTO INC</td>\n",
       "        <td>6194</td>\n",
       "    </tr>\n",
       "    <tr>\n",
       "        <td>PALO ALTO INC</td>\n",
       "        <td>6194</td>\n",
       "    </tr>\n",
       "    <tr>\n",
       "        <td>PALO ALTO INC</td>\n",
       "        <td>6194</td>\n",
       "    </tr>\n",
       "    <tr>\n",
       "        <td>PALO ALTO INC</td>\n",
       "        <td>6194</td>\n",
       "    </tr>\n",
       "    <tr>\n",
       "        <td>PALO ALTO INC</td>\n",
       "        <td>6194</td>\n",
       "    </tr>\n",
       "    <tr>\n",
       "        <td>PALO ALTO INC</td>\n",
       "        <td>6194</td>\n",
       "    </tr>\n",
       "    <tr>\n",
       "        <td>PALO ALTO INC</td>\n",
       "        <td>6194</td>\n",
       "    </tr>\n",
       "    <tr>\n",
       "        <td>PALO ALTO INC</td>\n",
       "        <td>6194</td>\n",
       "    </tr>\n",
       "    <tr>\n",
       "        <td>PALO ALTO INC</td>\n",
       "        <td>6194</td>\n",
       "    </tr>\n",
       "    <tr>\n",
       "        <td>PALO ALTO INC</td>\n",
       "        <td>6194</td>\n",
       "    </tr>\n",
       "    <tr>\n",
       "        <td>PALO ALTO INC</td>\n",
       "        <td>6194</td>\n",
       "    </tr>\n",
       "    <tr>\n",
       "        <td>PALO ALTO INC</td>\n",
       "        <td>6194</td>\n",
       "    </tr>\n",
       "    <tr>\n",
       "        <td>PALO ALTO INC</td>\n",
       "        <td>6194</td>\n",
       "    </tr>\n",
       "    <tr>\n",
       "        <td>PALO ALTO INC</td>\n",
       "        <td>6194</td>\n",
       "    </tr>\n",
       "    <tr>\n",
       "        <td>PALO ALTO INC</td>\n",
       "        <td>6194</td>\n",
       "    </tr>\n",
       "    <tr>\n",
       "        <td>PALO ALTO INC</td>\n",
       "        <td>6194</td>\n",
       "    </tr>\n",
       "    <tr>\n",
       "        <td>PALO ALTO INC</td>\n",
       "        <td>6194</td>\n",
       "    </tr>\n",
       "    <tr>\n",
       "        <td>PALO ALTO INC</td>\n",
       "        <td>6194</td>\n",
       "    </tr>\n",
       "    <tr>\n",
       "        <td>PALO ALTO INC</td>\n",
       "        <td>6194</td>\n",
       "    </tr>\n",
       "    <tr>\n",
       "        <td>PALO ALTO INC</td>\n",
       "        <td>6194</td>\n",
       "    </tr>\n",
       "    <tr>\n",
       "        <td>PALO ALTO INC</td>\n",
       "        <td>6194</td>\n",
       "    </tr>\n",
       "    <tr>\n",
       "        <td>PALO ALTO INC</td>\n",
       "        <td>6194</td>\n",
       "    </tr>\n",
       "    <tr>\n",
       "        <td>PALO ALTO INC</td>\n",
       "        <td>6194</td>\n",
       "    </tr>\n",
       "    <tr>\n",
       "        <td>PALO ALTO INC</td>\n",
       "        <td>6194</td>\n",
       "    </tr>\n",
       "    <tr>\n",
       "        <td>PALO ALTO INC</td>\n",
       "        <td>6194</td>\n",
       "    </tr>\n",
       "    <tr>\n",
       "        <td>PALO ALTO INC</td>\n",
       "        <td>6194</td>\n",
       "    </tr>\n",
       "    <tr>\n",
       "        <td>PALO ALTO INC</td>\n",
       "        <td>6194</td>\n",
       "    </tr>\n",
       "    <tr>\n",
       "        <td>PALO ALTO INC</td>\n",
       "        <td>6194</td>\n",
       "    </tr>\n",
       "    <tr>\n",
       "        <td>PALO ALTO INC</td>\n",
       "        <td>6194</td>\n",
       "    </tr>\n",
       "    <tr>\n",
       "        <td>PALO ALTO INC</td>\n",
       "        <td>6194</td>\n",
       "    </tr>\n",
       "    <tr>\n",
       "        <td>PALO ALTO INC</td>\n",
       "        <td>6194</td>\n",
       "    </tr>\n",
       "    <tr>\n",
       "        <td>PALO ALTO INC</td>\n",
       "        <td>6194</td>\n",
       "    </tr>\n",
       "    <tr>\n",
       "        <td>PALO ALTO INC</td>\n",
       "        <td>6194</td>\n",
       "    </tr>\n",
       "    <tr>\n",
       "        <td>PALO ALTO INC</td>\n",
       "        <td>6194</td>\n",
       "    </tr>\n",
       "    <tr>\n",
       "        <td>PALO ALTO INC</td>\n",
       "        <td>6194</td>\n",
       "    </tr>\n",
       "    <tr>\n",
       "        <td>PALO ALTO INC</td>\n",
       "        <td>6194</td>\n",
       "    </tr>\n",
       "    <tr>\n",
       "        <td>PALO ALTO INC</td>\n",
       "        <td>6194</td>\n",
       "    </tr>\n",
       "    <tr>\n",
       "        <td>PALO ALTO INC</td>\n",
       "        <td>6194</td>\n",
       "    </tr>\n",
       "    <tr>\n",
       "        <td>PALO ALTO INC</td>\n",
       "        <td>6194</td>\n",
       "    </tr>\n",
       "    <tr>\n",
       "        <td>PALO ALTO INC</td>\n",
       "        <td>6194</td>\n",
       "    </tr>\n",
       "    <tr>\n",
       "        <td>PALO ALTO INC</td>\n",
       "        <td>6194</td>\n",
       "    </tr>\n",
       "    <tr>\n",
       "        <td>PALO ALTO INC</td>\n",
       "        <td>6194</td>\n",
       "    </tr>\n",
       "    <tr>\n",
       "        <td>PALO ALTO INC</td>\n",
       "        <td>6194</td>\n",
       "    </tr>\n",
       "    <tr>\n",
       "        <td>PALO ALTO INC</td>\n",
       "        <td>6194</td>\n",
       "    </tr>\n",
       "</table>"
      ],
      "text/plain": [
       "[('PALO ALTO INC', 42208),\n",
       " ('PALO ALTO INC', 42208),\n",
       " ('PALO ALTO INC', 42208),\n",
       " ('PALO ALTO INC', 42208),\n",
       " ('PALO ALTO INC', 42208),\n",
       " ('PALO ALTO INC', 6194),\n",
       " ('PALO ALTO INC', 6194),\n",
       " ('PALO ALTO INC', 6194),\n",
       " ('PALO ALTO INC', 6194),\n",
       " ('PALO ALTO INC', 6194),\n",
       " ('PALO ALTO INC', 6194),\n",
       " ('PALO ALTO INC', 6194),\n",
       " ('PALO ALTO INC', 6194),\n",
       " ('PALO ALTO INC', 6194),\n",
       " ('PALO ALTO INC', 6194),\n",
       " ('PALO ALTO INC', 6194),\n",
       " ('PALO ALTO INC', 6194),\n",
       " ('PALO ALTO INC', 6194),\n",
       " ('PALO ALTO INC', 6194),\n",
       " ('PALO ALTO INC', 6194),\n",
       " ('PALO ALTO INC', 6194),\n",
       " ('PALO ALTO INC', 6194),\n",
       " ('PALO ALTO INC', 6194),\n",
       " ('PALO ALTO INC', 42208),\n",
       " ('PALO ALTO INC', 42208),\n",
       " ('PALO ALTO INC', 42208),\n",
       " ('PALO ALTO INC', 6194),\n",
       " ('PALO ALTO INC', 6194),\n",
       " ('PALO ALTO INC', 6194),\n",
       " ('PALO ALTO INC', 6194),\n",
       " ('PALO ALTO INC', 6194),\n",
       " ('PALO ALTO INC', 6194),\n",
       " ('PALO ALTO INC', 6194),\n",
       " ('PALO ALTO INC', 6194),\n",
       " ('PALO ALTO INC', 6194),\n",
       " ('PALO ALTO INC', 6194),\n",
       " ('PALO ALTO INC', 6194),\n",
       " ('PALO ALTO INC', 6194),\n",
       " ('PALO ALTO INC', 6194),\n",
       " ('PALO ALTO INC', 6194),\n",
       " ('PALO ALTO INC', 6194),\n",
       " ('PALO ALTO INC', 6194),\n",
       " ('PALO ALTO INC', 6194),\n",
       " ('PALO ALTO INC', 6194),\n",
       " ('PALO ALTO INC', 6194),\n",
       " ('PALO ALTO INC', 6194),\n",
       " ('PALO ALTO INC', 6194),\n",
       " ('PALO ALTO INC', 6194),\n",
       " ('PALO ALTO INC', 6194),\n",
       " ('PALO ALTO INC', 6194),\n",
       " ('PALO ALTO INC', 6194),\n",
       " ('PALO ALTO INC', 6194),\n",
       " ('PALO ALTO INC', 6194),\n",
       " ('PALO ALTO INC', 6194),\n",
       " ('PALO ALTO INC', 6194),\n",
       " ('PALO ALTO INC', 6194),\n",
       " ('PALO ALTO INC', 6194),\n",
       " ('PALO ALTO INC', 6194),\n",
       " ('PALO ALTO INC', 6194),\n",
       " ('PALO ALTO INC', 6194),\n",
       " ('PALO ALTO INC', 6194),\n",
       " ('PALO ALTO INC', 6194),\n",
       " ('PALO ALTO INC', 6194),\n",
       " ('PALO ALTO INC', 6194),\n",
       " ('PALO ALTO INC', 6194),\n",
       " ('PALO ALTO INC', 6194),\n",
       " ('PALO ALTO INC', 6194),\n",
       " ('PALO ALTO INC', 6194),\n",
       " ('PALO ALTO INC', 6194),\n",
       " ('PALO ALTO INC', 6194),\n",
       " ('PALO ALTO INC', 6194),\n",
       " ('PALO ALTO INC', 6194),\n",
       " ('PALO ALTO INC', 6194),\n",
       " ('PALO ALTO INC', 6194),\n",
       " ('PALO ALTO INC', 6194),\n",
       " ('PALO ALTO INC', 6194),\n",
       " ('PALO ALTO INC', 6194),\n",
       " ('PALO ALTO INC', 6194),\n",
       " ('PALO ALTO INC', 6194),\n",
       " ('PALO ALTO INC', 6194),\n",
       " ('PALO ALTO INC', 6194),\n",
       " ('PALO ALTO INC', 6194),\n",
       " ('PALO ALTO INC', 6194),\n",
       " ('PALO ALTO INC', 6194),\n",
       " ('PALO ALTO INC', 6194),\n",
       " ('PALO ALTO INC', 6194),\n",
       " ('PALO ALTO INC', 6194),\n",
       " ('PALO ALTO INC', 6194),\n",
       " ('PALO ALTO INC', 6194),\n",
       " ('PALO ALTO INC', 6194),\n",
       " ('PALO ALTO INC', 6194),\n",
       " ('PALO ALTO INC', 6194),\n",
       " ('PALO ALTO INC', 6194),\n",
       " ('PALO ALTO INC', 6194),\n",
       " ('PALO ALTO INC', 6194),\n",
       " ('PALO ALTO INC', 6194),\n",
       " ('PALO ALTO INC', 6194),\n",
       " ('PALO ALTO INC', 6194),\n",
       " ('PALO ALTO INC', 6194),\n",
       " ('PALO ALTO INC', 6194),\n",
       " ('PALO ALTO INC', 6194),\n",
       " ('PALO ALTO INC', 6194),\n",
       " ('PALO ALTO INC', 6194),\n",
       " ('PALO ALTO INC', 6194),\n",
       " ('PALO ALTO INC', 6194),\n",
       " ('PALO ALTO INC', 6194),\n",
       " ('PALO ALTO INC', 6194),\n",
       " ('PALO ALTO INC', 6194),\n",
       " ('PALO ALTO INC', 6194),\n",
       " ('PALO ALTO INC', 6194),\n",
       " ('PALO ALTO INC', 6194),\n",
       " ('PALO ALTO INC', 6194),\n",
       " ('PALO ALTO INC', 6194),\n",
       " ('PALO ALTO INC', 6194),\n",
       " ('PALO ALTO INC', 6194),\n",
       " ('PALO ALTO INC', 6194),\n",
       " ('PALO ALTO INC', 6194),\n",
       " ('PALO ALTO INC', 6194),\n",
       " ('PALO ALTO INC', 6194),\n",
       " ('PALO ALTO INC', 6194),\n",
       " ('PALO ALTO INC', 6194),\n",
       " ('PALO ALTO INC', 6194),\n",
       " ('PALO ALTO INC', 6194),\n",
       " ('PALO ALTO INC', 6194),\n",
       " ('PALO ALTO INC', 6194),\n",
       " ('PALO ALTO INC', 6194),\n",
       " ('PALO ALTO INC', 6194),\n",
       " ('PALO ALTO INC', 6194),\n",
       " ('PALO ALTO INC', 6194),\n",
       " ('PALO ALTO INC', 6194),\n",
       " ('PALO ALTO INC', 6194),\n",
       " ('PALO ALTO INC', 6194),\n",
       " ('PALO ALTO INC', 6194),\n",
       " ('PALO ALTO INC', 6194),\n",
       " ('PALO ALTO INC', 6194),\n",
       " ('PALO ALTO INC', 6194),\n",
       " ('PALO ALTO INC', 6194),\n",
       " ('PALO ALTO INC', 6194),\n",
       " ('PALO ALTO INC', 6194),\n",
       " ('PALO ALTO INC', 6194),\n",
       " ('PALO ALTO INC', 6194),\n",
       " ('PALO ALTO INC', 6194),\n",
       " ('PALO ALTO INC', 6194),\n",
       " ('PALO ALTO INC', 6194),\n",
       " ('PALO ALTO INC', 6194),\n",
       " ('PALO ALTO INC', 6194)]"
      ]
     },
     "execution_count": 29,
     "metadata": {},
     "output_type": "execute_result"
    }
   ],
   "source": [
    "%%sql\n",
    "SELECT owner_name, owner_key \n",
    "FROM E4 \n",
    "WHERE owner_name='PALO ALTO INC'"
   ]
  },
  {
   "cell_type": "code",
   "execution_count": 30,
   "metadata": {
    "collapsed": false
   },
   "outputs": [
    {
     "name": "stdout",
     "output_type": "stream",
     "text": [
      "1 rows affected.\n"
     ]
    },
    {
     "data": {
      "text/html": [
       "<table>\n",
       "    <tr>\n",
       "        <th>checkdependency</th>\n",
       "    </tr>\n",
       "    <tr>\n",
       "        <td>false</td>\n",
       "    </tr>\n",
       "</table>"
      ],
      "text/plain": [
       "[('false',)]"
      ]
     },
     "execution_count": 30,
     "metadata": {},
     "output_type": "execute_result"
    }
   ],
   "source": [
    "%%sql \n",
    "SELECT checkdependency('street_number','street_name'); "
   ]
  },
  {
   "cell_type": "code",
   "execution_count": 32,
   "metadata": {
    "collapsed": false
   },
   "outputs": [
    {
     "name": "stdout",
     "output_type": "stream",
     "text": [
      "1 rows affected.\n"
     ]
    },
    {
     "data": {
      "text/html": [
       "<table>\n",
       "    <tr>\n",
       "        <th>checkdependency</th>\n",
       "    </tr>\n",
       "    <tr>\n",
       "        <td>false</td>\n",
       "    </tr>\n",
       "</table>"
      ],
      "text/plain": [
       "[('false',)]"
      ]
     },
     "execution_count": 32,
     "metadata": {},
     "output_type": "execute_result"
    }
   ],
   "source": [
    "%%sql \n",
    "SELECT checkdependency('phone','facility_key'); "
   ]
  },
  {
   "cell_type": "code",
   "execution_count": 33,
   "metadata": {
    "collapsed": false
   },
   "outputs": [
    {
     "name": "stdout",
     "output_type": "stream",
     "text": [
      "1 rows affected.\n"
     ]
    },
    {
     "data": {
      "text/html": [
       "<table>\n",
       "    <tr>\n",
       "        <th>checkdependency</th>\n",
       "    </tr>\n",
       "    <tr>\n",
       "        <td>true</td>\n",
       "    </tr>\n",
       "</table>"
      ],
      "text/plain": [
       "[('true',)]"
      ]
     },
     "execution_count": 33,
     "metadata": {},
     "output_type": "execute_result"
    }
   ],
   "source": [
    "%%sql \n",
    "SELECT checkdependency('program_category','program_category_description'); "
   ]
  },
  {
   "cell_type": "code",
   "execution_count": 35,
   "metadata": {
    "collapsed": false
   },
   "outputs": [
    {
     "name": "stdout",
     "output_type": "stream",
     "text": [
      "Done.\n",
      "Done.\n",
      "25 rows affected.\n"
     ]
    },
    {
     "data": {
      "text/plain": [
       "[]"
      ]
     },
     "execution_count": 35,
     "metadata": {},
     "output_type": "execute_result"
    }
   ],
   "source": [
    "%%sql\n",
    "DROP TABLE IF EXISTS program_category;\n",
    "CREATE TABLE program_category\n",
    "(\n",
    "    program_category VARCHAR(4) PRIMARY KEY,\n",
    "    program_category_description VARCHAR(40)\n",
    ");\n",
    "\n",
    "INSERT INTO program_category \n",
    "    SELECT distinct(program_category), program_category_description\n",
    "    FROM E4"
   ]
  },
  {
   "cell_type": "code",
   "execution_count": 38,
   "metadata": {
    "collapsed": false
   },
   "outputs": [
    {
     "name": "stdout",
     "output_type": "stream",
     "text": [
      "Done.\n",
      "Done.\n",
      "8 rows affected.\n"
     ]
    },
    {
     "data": {
      "text/plain": [
       "[]"
      ]
     },
     "execution_count": 38,
     "metadata": {},
     "output_type": "execute_result"
    }
   ],
   "source": [
    "%%sql\n",
    "DROP TABLE IF EXISTS action;\n",
    "CREATE TABLE action\n",
    "(\n",
    "    action_code VARCHAR(2) PRIMARY KEY,\n",
    "    action_decs VARCHAR(34)\n",
    ");\n",
    "\n",
    "INSERT INTO action \n",
    "    SELECT distinct(action_code), action_decs\n",
    "    FROM E4"
   ]
  },
  {
   "cell_type": "code",
   "execution_count": 37,
   "metadata": {
    "collapsed": false
   },
   "outputs": [
    {
     "name": "stdout",
     "output_type": "stream",
     "text": [
      "Done.\n",
      "Done.\n",
      "19 rows affected.\n"
     ]
    },
    {
     "data": {
      "text/plain": [
       "[]"
      ]
     },
     "execution_count": 37,
     "metadata": {},
     "output_type": "execute_result"
    }
   ],
   "source": [
    "%%sql\n",
    "DROP TABLE IF EXISTS result;\n",
    "CREATE TABLE result\n",
    "(\n",
    "    result_code VARCHAR(2) PRIMARY KEY,\n",
    "    result_desc VARCHAR(37)\n",
    ");\n",
    "\n",
    "INSERT INTO result \n",
    "    SELECT distinct(result_code), result_desc\n",
    "    FROM E4"
   ]
  },
  {
   "cell_type": "code",
   "execution_count": 39,
   "metadata": {
    "collapsed": false
   },
   "outputs": [
    {
     "name": "stdout",
     "output_type": "stream",
     "text": [
      "Done.\n",
      "Done.\n",
      "Done.\n"
     ]
    },
    {
     "data": {
      "text/plain": [
       "[]"
      ]
     },
     "execution_count": 39,
     "metadata": {},
     "output_type": "execute_result"
    }
   ],
   "source": [
    "%%sql\n",
    "ALTER TABLE E4 DROP COLUMN action_decs;\n",
    "ALTER TABLE E4 DROP COLUMN result_desc;\n",
    "ALTER TABLE E4 DROP COLUMN program_category_description;"
   ]
  },
  {
   "cell_type": "code",
   "execution_count": 40,
   "metadata": {
    "collapsed": false
   },
   "outputs": [
    {
     "name": "stdout",
     "output_type": "stream",
     "text": [
      "Done.\n",
      "Done.\n",
      "Done.\n"
     ]
    },
    {
     "data": {
      "text/plain": [
       "[]"
      ]
     },
     "execution_count": 40,
     "metadata": {},
     "output_type": "execute_result"
    }
   ],
   "source": [
    "%%sql\n",
    "ALTER TABLE E4 ADD CONSTRAINT acfk FOREIGN KEY (action_code) REFERENCES action (action_code) MATCH FULL;\n",
    "ALTER TABLE E4 ADD CONSTRAINT rsfk FOREIGN KEY (result_code) REFERENCES result (result_code) MATCH FULL;\n",
    "ALTER TABLE E4 ADD CONSTRAINT pcfk FOREIGN KEY (program_category) REFERENCES program_category (program_category) MATCH FULL;"
   ]
  },
  {
   "cell_type": "code",
   "execution_count": null,
   "metadata": {
    "collapsed": true
   },
   "outputs": [],
   "source": []
  }
 ],
 "metadata": {
  "anaconda-cloud": {},
  "kernelspec": {
   "display_name": "Python 3",
   "language": "python",
   "name": "python3"
  },
  "language_info": {
   "codemirror_mode": {
    "name": "ipython",
    "version": 3
   },
   "file_extension": ".py",
   "mimetype": "text/x-python",
   "name": "python",
   "nbconvert_exporter": "python",
   "pygments_lexer": "ipython3",
   "version": "3.5.2"
  }
 },
 "nbformat": 4,
 "nbformat_minor": 1
}
